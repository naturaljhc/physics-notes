{
 "cells": [
  {
   "cell_type": "markdown",
   "id": "91354964",
   "metadata": {},
   "source": [
    "# Week 3: Gauss's Law\n",
    "📅 Date: 12 July, 2025\n",
    "\n",
    "---"
   ]
  },
  {
   "cell_type": "markdown",
   "id": "279bbba7",
   "metadata": {},
   "source": [
    "### Problem 1: Concentric Cylinders\n",
    "![w3ps1](./images/w3ps1.svg)\n",
    "\n",
    "A long very thin non-conducting cylindrical shell of radius $b$ and length $L$ surrounds a long solid non-conducting cylinder of radius $a$ and length $L$ with $b>a$. Assume that $L\\gg a$ and $L\\gg b$ so that you can treat the cylinders as effectively infinite in length. The inner cylinder has a charge $+Q$ uniformly distributed throughout its volume, while the outer cylinder has a charge $−Q$ uniformly distributed across its surface. The region $a<r<b$ is empty. Calculate the electric field as a function of $r$ for the three regions: i) $r<a$, ii) $a<r<b$, and iii) $r>b$. Make a plot of the magnitude of the electric field as a function of $r$ for all three regions of space. \n",
    "\n",
    "**Question 1:** What is the symmetry property of this charge distribution?"
   ]
  },
  {
   "cell_type": "markdown",
   "id": "2a36dd05",
   "metadata": {},
   "source": [
    "Cylindrical\n",
    "\n",
    "---"
   ]
  },
  {
   "cell_type": "markdown",
   "id": "db54bcef",
   "metadata": {},
   "source": [
    "**Question 2:** What is the direction of the electric field?"
   ]
  },
  {
   "cell_type": "markdown",
   "id": "cd04abca",
   "metadata": {},
   "source": [
    "Radial (in/out)\n",
    "\n",
    "---"
   ]
  },
  {
   "cell_type": "markdown",
   "id": "86fd96dc",
   "metadata": {},
   "source": [
    "**Question 3:** How many different formulae for $\\vec{\\mathbf{E}}$ are you going to have to calculate?"
   ]
  },
  {
   "cell_type": "markdown",
   "id": "d1565e2d",
   "metadata": {},
   "source": [
    "3\n",
    "\n",
    "---"
   ]
  },
  {
   "cell_type": "markdown",
   "id": "7e3c86c6",
   "metadata": {},
   "source": [
    "**Question 4:** What variable should you choose to parameterize your Gaussian surface? What is the range of that variable in each region?"
   ]
  },
  {
   "cell_type": "markdown",
   "id": "ae4ac33f",
   "metadata": {},
   "source": [
    "The variable is $r$ and the regions are\n",
    "1. $r<a$\n",
    "2. $a<r<b$\n",
    "3. $r>b$\n",
    "\n",
    "---"
   ]
  },
  {
   "cell_type": "markdown",
   "id": "e88e3aad",
   "metadata": {},
   "source": [
    "**Question 5:** In the region $r<a$, calculate the flux\n",
    "$$\n",
    "\\oiint_S \\vec{\\mathbf{E}}\\cdot d\\vec{\\mathbf{A}}\n",
    "$$\n",
    "through your choice of the Gaussian surface. Your expression should include the unknown electric field for that region."
   ]
  },
  {
   "cell_type": "markdown",
   "id": "ee0b4970",
   "metadata": {},
   "source": [
    "The Gaussian surface has length, $h$, and an area of $A = 2\\pi rh$. The is\n",
    "$$\n",
    "\\oiint_S \\vec{\\mathbf{E}}\\cdot d\\vec{\\mathbf{A}} = EA = 2\\pi rhE\n",
    "$$\n",
    "\n",
    "---"
   ]
  },
  {
   "cell_type": "markdown",
   "id": "86a6eaac",
   "metadata": {},
   "source": [
    "**Question 6:** In the region $r<a$, what is the charge enclosed in your choice of Gaussian surface?"
   ]
  },
  {
   "cell_type": "markdown",
   "id": "9d17bc18",
   "metadata": {},
   "source": [
    "Note that the outer cylinder is hollow - this means that the charge from the outer cylinder is outside of the Gaussian surface and thus, does not contribute to the electric field in this region and we can just consider the inner cylinder. The inner cylinder has a uniform charge distribution throughout its entire volume - the charge distribution is then\n",
    "$$\n",
    "\\rho_+ = \\frac{Q}{\\pi a^2 L}\n",
    "$$\n",
    "\n",
    "Now consider the enclosed charge. The Gaussian surface has volume $\\pi r^2 h$ so the enclosed charge is given by\n",
    "$$\n",
    "\\begin{align*}\n",
    "    \\frac{Q_\\text{enc}}{\\pi r^2 h} &= \\rho_+ \\\\\n",
    "    Q_\\text{enc} &= \\frac{Q\\pi r^2 h}{\\pi a^2 L} \\\\\n",
    "    &= \\frac{Q r^2 h}{a^2 L}\n",
    "\\end{align*}\n",
    "$$\n",
    "\n",
    "---"
   ]
  },
  {
   "cell_type": "markdown",
   "id": "94d0782e",
   "metadata": {},
   "source": [
    "**Question 7:** In the region $r<a$, equate the two sides of Gauss's Law that you calculated in Questions 5 and 6 and solve to find an expression for the magnitude of the electric field as a function of $r$."
   ]
  },
  {
   "cell_type": "markdown",
   "id": "981dbbea",
   "metadata": {},
   "source": [
    "The electric field in this region is\n",
    "$$\n",
    "\\begin{align*}\n",
    "    \\oiint_S \\vec{\\mathbf{E}}\\cdot d\\vec{\\mathbf{A}} &= \\frac{Q_\\text{enc}}{\\epsilon_0} \\\\\n",
    "    2\\pi rhE &= \\frac{Q r^2 h}{a^2 L\\epsilon_0} \\\\\n",
    "    E(r<a) &= \\frac{Q}{2\\pi a^2 L\\epsilon_0}\n",
    "\\end{align*}\n",
    "$$\n",
    "\n",
    "---"
   ]
  },
  {
   "cell_type": "markdown",
   "id": "33ce3cb4",
   "metadata": {},
   "source": [
    "**Question 8:** Repeat the same procedure in order to calculate the electric field as a function of $r$ in the region $a<r<b$. "
   ]
  },
  {
   "cell_type": "markdown",
   "id": "fbc2f8ee",
   "metadata": {},
   "source": [
    "Again, the outer cylinder does not contribute to the electric field. In this region, the enclosed charge contains the entirety of the inner cylinder so the enclosed charge is given by:\n",
    "$$\n",
    "\\begin{align*}\n",
    "    \\frac{Q_\\text{enc}}{\\pi a^2 h} &= \\rho_+ \\\\\n",
    "    Q_\\text{enc} &= \\frac{Q\\pi a^2 h}{\\pi a^2 L} \\\\\n",
    "    &= \\frac{Q h}{L}\n",
    "\\end{align*}\n",
    "$$\n",
    "\n",
    "The flux has not changed and the electric field is\n",
    "$$\n",
    "\\begin{align*}\n",
    "    \\oiint_S \\vec{\\mathbf{E}}\\cdot d\\vec{\\mathbf{A}} &= \\frac{Q_\\text{enc}}{\\epsilon_0} \\\\\n",
    "    2\\pi rhE &= \\frac{Q h}{L\\epsilon_0} \\\\\n",
    "    E(a<r<b) &= \\frac{Q}{2\\pi r L\\epsilon_0}\n",
    "\\end{align*}\n",
    "$$\n",
    "\n",
    "---"
   ]
  },
  {
   "cell_type": "markdown",
   "id": "1922f091",
   "metadata": {},
   "source": [
    "**Question 9:** What is the electric field in the region $r>b$? "
   ]
  },
  {
   "cell_type": "markdown",
   "id": "87697ee1",
   "metadata": {},
   "source": [
    "The charge inside this region cancels out resulting in the enclosed charge being 0, thus,\n",
    "$$\n",
    "E(r>b) = 0\n",
    "$$\n",
    "\n",
    "---\n",
    "---"
   ]
  },
  {
   "cell_type": "markdown",
   "id": "98055ccc",
   "metadata": {},
   "source": [
    "### Problem 2: Infinite Plane\n",
    "\n",
    "A semi-infinite slab with uniform positive volume charge density $\\rho$ extends from $x=-d$ to $x=d$. Find a vector expression for the electric field everywhere i.e. in the regions (i) $x<−d$, (ii) $−d<x<d$, (iii) $x>+d$. \n",
    "\n",
    "![w3ps2](./images/w3ps2.png)"
   ]
  },
  {
   "cell_type": "markdown",
   "id": "54e5c74d",
   "metadata": {},
   "source": [
    "**Question 1:** What is the symmetry property of this charge distribution?"
   ]
  },
  {
   "cell_type": "markdown",
   "id": "73f06e5e",
   "metadata": {},
   "source": [
    "Planar\n",
    "\n",
    "---"
   ]
  },
  {
   "cell_type": "markdown",
   "id": "dd6e8fbb",
   "metadata": {},
   "source": [
    "**Question 2:** What is the direction of the electric field?"
   ]
  },
  {
   "cell_type": "markdown",
   "id": "144c7861",
   "metadata": {},
   "source": [
    "Perpendicular to the slab (i.e. in the $\\pm x$ direction)\n",
    "\n",
    "---"
   ]
  },
  {
   "cell_type": "markdown",
   "id": "57b41650",
   "metadata": {},
   "source": [
    "**Question 3:** How many formulae for $\\vec{\\mathbf{E}}$ are you going to have to calculate?"
   ]
  },
  {
   "cell_type": "markdown",
   "id": "8d8b7440",
   "metadata": {},
   "source": [
    "3\n",
    "\n",
    "---"
   ]
  },
  {
   "cell_type": "markdown",
   "id": "6c76d4b2",
   "metadata": {},
   "source": [
    "**Question 4:** What variable should you choose to parameterize your Gaussian surface? What is the range of that variable in each region?"
   ]
  },
  {
   "cell_type": "markdown",
   "id": "517673db",
   "metadata": {},
   "source": [
    "Choose $x$ to parameterize the Gaussian surface. The three regions are:\n",
    "\n",
    "1. $x<-d$\n",
    "2. $-d<x<d$\n",
    "3. $x>d$\n",
    "\n",
    "---"
   ]
  },
  {
   "cell_type": "markdown",
   "id": "25521537",
   "metadata": {},
   "source": [
    "**Question 5:** In the region $r<d$, calculate the flux\n",
    "$$\n",
    "\\oiint_S \\vec{\\mathbf{E}}\\cdot d\\vec{\\mathbf{A}}\n",
    "$$\n",
    "through your choice of the Gaussian surface. Your expression should include the unknown electric field for that region."
   ]
  },
  {
   "cell_type": "markdown",
   "id": "40537ad8",
   "metadata": {},
   "source": [
    "Consider a cylindrical Gaussian surface along the $x$-axis. The total area is $2A$ (one on each side) and the flux is\n",
    "$$\n",
    "\\oiint_S \\vec{\\mathbf{E}}\\cdot d\\vec{\\mathbf{A}} = 2EA\n",
    "$$\n",
    "\n",
    "---"
   ]
  },
  {
   "cell_type": "markdown",
   "id": "da493c2e",
   "metadata": {},
   "source": [
    "**Question 6:** In the region $-d<x'<+d$, what is the charge enclosed in your choice of Gaussian surface?"
   ]
  },
  {
   "cell_type": "markdown",
   "id": "6366cbd5",
   "metadata": {},
   "source": [
    "The total length of the cylinder is $2x'$ so the volume of the cylinder is $2Ax'$ and the enclosed charge is\n",
    "$$\n",
    "Q_\\text{enc} = 2\\rho Ax'\n",
    "$$\n",
    "\n",
    "---"
   ]
  },
  {
   "cell_type": "markdown",
   "id": "a5e70c44",
   "metadata": {},
   "source": [
    "**Question 7:** In the region $-d<x'<+d$, equate the two dies of Gauss's Law that you calculated in Questions 5 and 6 and solve to find an expression for the $x$-component of the electric field as a function of $x'$."
   ]
  },
  {
   "cell_type": "markdown",
   "id": "12e8b28d",
   "metadata": {},
   "source": [
    "The electric field is\n",
    "$$\n",
    "    E(|x'|<d) = \\frac{\\rho x'}{\\epsilon_0}\n",
    "$$\n",
    "\n",
    "---"
   ]
  },
  {
   "cell_type": "markdown",
   "id": "cbfc86be",
   "metadata": {},
   "source": [
    "**Question 8:** Repeat the same procedure in order to calculate the electric field as a function of $x'$ in the region $|x'|>d$. By symmetry, the field must have the same magnitude (but opposite direction) at $\\pm x'$, so your answer for the magnitude will apply to the region outside the slab on both sides."
   ]
  },
  {
   "cell_type": "markdown",
   "id": "bb0b677e",
   "metadata": {},
   "source": [
    "The flux is the same, but the enclosed charge is now\n",
    "$$\n",
    "Q_\\text{enc} = 2\\rho Ad\n",
    "$$\n",
    "\n",
    "The electric field is\n",
    "$$\n",
    "    E(|x'|>d) = \\frac{\\rho d}{\\epsilon_0}\n",
    "$$\n",
    "\n",
    "---\n",
    "---"
   ]
  },
  {
   "cell_type": "markdown",
   "id": "effadd03",
   "metadata": {},
   "source": [
    "### Problem 3: Non-Uniform Spherical Charge Distribution\n",
    "\n",
    "![w3ps3](./images/w3ps3.png)\n",
    "\n",
    "A spherically symmetric charge distribution is non-uniform and has a volume charge density given by:\n",
    "$$\n",
    "\\rho(r) = \n",
    "\\begin{cases}\n",
    "    \\rho_0(1-r^2/R^2); r\\leq R \\\\\n",
    "    0; r>R\n",
    "\\end{cases}\n",
    "$$\n",
    "where $\\rho_0>0$ is constant."
   ]
  },
  {
   "cell_type": "markdown",
   "id": "590c70a8",
   "metadata": {},
   "source": [
    "**(a)** What is the total charge contained inside the sphere of radius $R$?"
   ]
  },
  {
   "cell_type": "markdown",
   "id": "3817d6ff",
   "metadata": {},
   "source": [
    "Consider spheres of thickness $dr$ with area $4\\pi r^2$. Then the charge of each one of these hollow spheres is\n",
    "$$\n",
    "4\\pi r^2\\rho(r) dr\n",
    "$$\n",
    "\n",
    "Summing up all of these hollow spheres yields the total charge:\n",
    "$$\n",
    "\\begin{align*}\n",
    "    Q_\\text{total} &= \\int^R_0 4\\pi r'^2\\rho_0(1-r'^2/R^2) dr' \\\\\n",
    "    &= 4\\pi\\rho_0\\int^R_0 r'^2-r'^4/R^2 dr' \\\\\n",
    "    &= 4\\pi\\rho_0\\bigg[\\frac{r'^3}{3} - \\frac{r'^5}{5R^2}\\bigg]^R_0 \\\\\n",
    "    &= 4\\pi\\rho_0\\bigg[\\frac{R^3}{3} - \\frac{R^3}{5}\\bigg] \\\\\n",
    "    &= \\frac{8\\pi \\rho_0 R^3}{15}\n",
    "\\end{align*}\n",
    "$$\n",
    "\n",
    "---"
   ]
  },
  {
   "cell_type": "markdown",
   "id": "acc9ab7e",
   "metadata": {},
   "source": [
    "**(b)** Find an expression for magnitude of the electric field in region I where $r>R$."
   ]
  },
  {
   "cell_type": "markdown",
   "id": "ad06f9f7",
   "metadata": {},
   "source": [
    "The flux at region II is\n",
    "$$\n",
    "\\Phi = 4\\pi r^2 E\n",
    "$$\n",
    "\n",
    "Then the magnitude of the electric field in region II is\n",
    "$$\n",
    "\\begin{align*}\n",
    "    4\\pi r^2 E &= \\frac{8\\pi \\rho_0 R^3}{15\\epsilon_0} \\\\\n",
    "    E &= \\frac{2\\rho_0 R^3}{15r^2\\epsilon_0}\n",
    "\\end{align*}\n",
    "$$\n",
    "\n",
    "---"
   ]
  },
  {
   "cell_type": "markdown",
   "id": "abd653d1",
   "metadata": {},
   "source": [
    "**(c)** Find an expression for the magnitude of the electric field in region II where $r<R$."
   ]
  },
  {
   "cell_type": "markdown",
   "id": "6238dad2",
   "metadata": {},
   "source": [
    "The total charge in region II is\n",
    "$$\n",
    "\\begin{align*}\n",
    "    Q_\\text{total} &= \\int^r_0 4\\pi r'^2\\rho_0(1-r'^2/R^2) dr' \\\\\n",
    "    &= 4\\pi\\rho_0\\int^r_0 r'^2-r'^4/R^2 dr' \\\\\n",
    "    &= 4\\pi\\rho_0\\bigg[\\frac{r'^3}{3} - \\frac{r'^5}{5R^2}\\bigg]^r_0 \\\\\n",
    "    &= 4\\pi\\rho_0\\bigg[\\frac{r^3}{3} - \\frac{r^5}{5R^2}\\bigg]\n",
    "\\end{align*}\n",
    "$$\n",
    "\n",
    "Then the electric field in region II is\n",
    "$$\n",
    "\\begin{align*}\n",
    "    4\\pi r^2 E &= 4\\pi\\rho_0\\bigg[\\frac{r^3}{3} - \\frac{r^5}{5R^2}\\bigg] \\\\\n",
    "    E &= \\frac{\\rho_0}{\\epsilon_0}\\bigg[\\frac{r^3}{3} - \\frac{r^5}{5R^2}\\bigg]\n",
    "\\end{align*}\n",
    "$$\n",
    "\n",
    "---\n",
    "---"
   ]
  },
  {
   "cell_type": "markdown",
   "id": "8ec5f2d7",
   "metadata": {},
   "source": [
    "### Problem 4: Charged Slabs and Sheets\n",
    "\n",
    "An infinite slab of charge carrying a uniform volume charge density $\\rho$ has its boundaries located at $x=−d$ and $x=d$, where $d=3$ m. It is infinite in the $y$-direction and in the $z$-direction (the $z$-direction is out of the plane of the figure). Two infinite charge sheets (of zero thickness) which are parallel to the $yz$-plane are located at $x=−3d$ and $x=+3d$, with uniform surface charge densities $\\sigma_1$ and $\\sigma_2$ respectively.\n",
    "\n",
    "![w3ps4](./images/w3ps4.jpg)\n",
    "\n",
    "In the accessible regions, we measure the electric field to be\n",
    "$$\n",
    "\\vec{\\mathbf{E}}(x) =\n",
    "\\begin{cases}\n",
    "    \\vec{\\mathbf{0}}\\quad\\text{for}\\quad x<-3d \\\\\n",
    "    E\\hat{\\mathbf{i}}\\quad\\text{for}\\quad -3d<x<-d \\\\\n",
    "    -E\\hat{\\mathbf{i}}\\quad\\text{for}\\quad d<x<3d \\\\\n",
    "    \\vec{\\mathbf{0}}\\quad\\text{for}\\quad x>3d\n",
    "\\end{cases}\n",
    "$$\n",
    "where $E = 10$ N/C"
   ]
  },
  {
   "cell_type": "markdown",
   "id": "aada9680",
   "metadata": {},
   "source": [
    "**(Part a)** What is the value $\\rho/\\epsilon_0$ for the slab?"
   ]
  },
  {
   "cell_type": "markdown",
   "id": "bb0693f6",
   "metadata": {},
   "source": [
    "The electric field points opposite to the normal of the surface so the flux is negative. Using a cylindrical Gaussian surface, the area would be $2A$. The enclosed charge would be $2\\rho Ad$ and thus,\n",
    "$$\n",
    "\\begin{align*}\n",
    "    \\frac{2\\rho Ad}{\\epsilon_0} &= -2EA \\\\\n",
    "    \\frac{\\rho}{\\epsilon_0} &= -\\frac{E}{d} \\\\\n",
    "    \\frac{\\rho}{\\epsilon_0} &= -\\frac{10}{3} \\text{ N/C/m}\n",
    "\\end{align*}\n",
    "$$\n",
    "\n",
    "---"
   ]
  },
  {
   "cell_type": "markdown",
   "id": "097ccd1a",
   "metadata": {},
   "source": [
    "**(Part b)** Find $\\sigma_1/\\epsilon_0$ and $\\sigma_2/\\epsilon_0$ for the left and right charged sheets.\n",
    "For the left charged sheet,\n",
    "$$\n",
    "\\begin{align*}\n",
    "    \\frac{\\sigma_1 A}{\\epsilon_0} &= EA \\\\\n",
    "    \\frac{\\sigma_1}{\\epsilon_0} &= E \\\\\n",
    "    \\frac{\\sigma_1}{\\epsilon_0} &= 10\\text{ N/C/m}\n",
    "\\end{align*}\n",
    "$$\n",
    "\n",
    "And for the right charged sheet,\n",
    "$$\n",
    "\\begin{align*}\n",
    "    \\frac{\\sigma_2 A}{\\epsilon_0} &= EA \\\\\n",
    "    \\frac{\\sigma_2}{\\epsilon_0} &= E \\\\\n",
    "    \\frac{\\sigma_2}{\\epsilon_0} &= 10\\text{ N/C/m}\n",
    "\\end{align*}\n",
    "$$\n",
    "\n",
    "---\n",
    "---"
   ]
  }
 ],
 "metadata": {
  "language_info": {
   "name": "python"
  }
 },
 "nbformat": 4,
 "nbformat_minor": 5
}
