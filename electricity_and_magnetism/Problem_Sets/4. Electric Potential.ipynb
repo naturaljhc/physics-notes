{
 "cells": [
  {
   "cell_type": "markdown",
   "metadata": {},
   "source": [
    "# Week 4: Electric Potential\n",
    "📅 Date: 17 July, 2025\n",
    "\n",
    "---\n",
    "---"
   ]
  },
  {
   "cell_type": "markdown",
   "metadata": {},
   "source": [
    "### Problem 1: Potential for an Electric Dipole\n",
    "\n",
    "Consider two oppositely charged objects located along the $y$-axis. The positively charged object has charge $+q$ and is located at $y=+a$, and the negatively charged object has charge $-q$ and is located at $y=-a$, forming an electric dipole along the $y$-axis, as shown in the figure below.\n",
    "\n",
    "![w4ps1](./images/w4ps1.png)"
   ]
  },
  {
   "cell_type": "markdown",
   "metadata": {},
   "source": [
    "**(Part a)** Use polar coordinates $(r,\\theta)$ for the point $P$ in the $xy$-plane, find an expression for the electric potential $V(r,\\theta)$ at the point $P$ assuming $V(\\infty) = 0$."
   ]
  },
  {
   "cell_type": "markdown",
   "metadata": {},
   "source": [
    "The $x$-coordinate and $y$-coordinate are $x = r\\sin\\theta$ and $y = r\\cos\\theta$ respectively. The vector from the positive and negative charge to the point $P$ are (respectively)\n",
    "$$\n",
    "\\begin{align*}\n",
    "    r_+ &= ((r\\sin\\theta)^2 + (r\\cos\\theta - a)^2)^{1/2} \\\\\n",
    "    r_- &= ((r\\sin\\theta)^2 + (r\\cos\\theta + a)^2)^{1/2}\n",
    "\\end{align*}\n",
    "$$\n",
    "\n",
    "Applying the superposition principle, the electric potential is\n",
    "$$\n",
    "\\begin{align*}\n",
    "    V(r,\\theta) &= \\frac{kq}{r_+} - \\frac{kq}{r_-} \\\\\n",
    "    &= \\frac{kq}{((r\\sin\\theta)^2 + (r\\cos\\theta - a)^2)^{1/2}} - \\frac{kq}{((r\\sin\\theta)^2 + (r\\cos\\theta + a)^2)^{1/2}} \\\\\n",
    "    &= \\frac{kq}{(r^2-2ar\\cos\\theta+a^2)^{1/2}} - \\frac{kq}{(r^2+2ar\\cos\\theta+a^2)^{1/2}}\n",
    "\\end{align*}\n",
    "$$\n",
    "\n",
    "---"
   ]
  },
  {
   "cell_type": "markdown",
   "metadata": {},
   "source": [
    "**(Part b)** When $r\\ll a$, use a Taylor series expansion to show that the electric potential can be approximated by the expression $V(r,\\theta) = k\\vec{\\mathbf{p}}\\cdot\\hat{\\mathbf{r}}/r^2$ where $\\vec{\\mathbf{p}}$ is the electric moment and $\\hat{\\mathbf{r}}$ is the radius unit vector in polar coordinates."
   ]
  },
  {
   "cell_type": "markdown",
   "metadata": {},
   "source": [
    "Rewrite the electric potential as\n",
    "$$\n",
    "\\begin{align*}\n",
    "    V(r,\\theta) &= \\frac{kq}{r(1+\\frac{-2ar\\cos\\theta+a^2}{r^2}^{1/2})} - \\frac{kq}{r(1+\\frac{2ar\\cos\\theta+a^2}{r^2})^{1/2}} \\\\\n",
    "    &= \\frac{kq}{r(1+\\epsilon_+)^{1/2}} - \\frac{kq}{r(1+\\epsilon_-)^{1/2}} \\\\\n",
    "    &= \\frac{kq}{r}\\big[(1+\\epsilon_+)^{-1/2} - (1+\\epsilon_-)^{-1/2}\\big]\n",
    "\\end{align*}\n",
    "$$\n",
    "\n",
    "For some neighborhood around $\\epsilon_+ \\approx 1$ and $\\epsilon_- \\approx 1$, we can apply a Taylor expansion to approximate\n",
    "$$\n",
    "\\begin{align*}\n",
    "    (1+\\epsilon_+)^{-1/2} &\\approx 1 - \\frac{1}{2}\\epsilon_+ \\\\\n",
    "    (1+\\epsilon_-)^{-1/2} &\\approx 1 - \\frac{1}{2}\\epsilon_-\n",
    "\\end{align*}\n",
    "$$\n",
    "\n",
    "Then the electric potential is approximately\n",
    "$$\n",
    "\\begin{align*}\n",
    "    V(r,\\theta) &= \\frac{kq}{r}\\bigg[\\bigg(1-\\frac{1}{2}\\epsilon_+\\bigg) - \\bigg(1-\\frac{1}{2}\\epsilon_-\\bigg)\\bigg] \\\\\n",
    "    &= \\frac{kq}{2r}(\\epsilon_- - \\epsilon_+) \\\\\n",
    "    &= \\frac{kq}{2r}\\bigg(\\frac{2ar\\cos\\theta+a^2}{r^2}-\\frac{-2ar\\cos\\theta+a^2}{r^2}\\bigg) \\\\\n",
    "    &= \\frac{kq}{2r}\\bigg(\\frac{4a\\cos\\theta}{r}\\bigg) \\\\\n",
    "    &= \\frac{2kqa\\cos\\theta}{r^2}\n",
    "\\end{align*}\n",
    "$$\n",
    "\n",
    "The dipole moment is\n",
    "$$\n",
    "\\begin{align*}\n",
    "    \\vec{\\mathbf{p}} &= +q(a\\hat{\\mathbf{j}}) + (-q)(-a\\hat{\\mathbf{j}}) \\\\\n",
    "    &= 2qa\\hat{\\mathbf{j}}\n",
    "\\end{align*}\n",
    "$$\n",
    "\n",
    "Since $\\hat{\\mathbf{r}} = \\sin\\theta \\hat{\\mathbf{i}} + \\cos\\theta\\hat{\\mathbf{j}}$, we have $\\vec{\\mathbf{p}}\\cdot\\hat{\\mathbf{r}} = 2qa\\cos\\theta$ and the electric potential is approximately\n",
    "$$\n",
    "    V(r,\\theta) = \\frac{k\\vec{\\mathbf{p}}\\cdot\\hat{\\mathbf{r}}}{r^2}\n",
    "$$\n",
    "\n",
    "---"
   ]
  },
  {
   "cell_type": "markdown",
   "metadata": {},
   "source": [
    "**(Part c)** The component of the electric field in polar coordinates are given by the expressions\n",
    "$$\n",
    "\\begin{align*}\n",
    "    E_\\theta (r,\\theta) &= -\\frac{1}{r}\\frac{\\partial}{\\partial\\theta}V(r,\\theta) \\\\\n",
    "    E_r (r,\\theta) &= -\\frac{\\partial}{\\partial r}V(r,\\theta)\n",
    "\\end{align*}\n",
    "$$\n",
    "\n",
    "Calculate the components of the electric field in polar coordinates at the point $P$ associated with your \"dipole approximation\" in **(Part b)**."
   ]
  },
  {
   "cell_type": "markdown",
   "metadata": {},
   "source": [
    "Note that the magnitude of the dipole moment is $p = 2qa$. Taking the gradient of $V$ yields\n",
    "$$\n",
    "    \\nabla\\cdot V = \\bigg(-\\frac{2kp\\cos\\theta}{r^3}\\bigg)\\hat{\\mathbf{r}} + \\bigg(\\frac{-kp\\sin\\theta}{r^2}\\bigg)\\hat{\\mathbf{\\theta}}\n",
    "$$\n",
    "\n",
    "Then the components of the electric field are\n",
    "$$\n",
    "\\begin{align*}\n",
    "    E_r &= \\frac{2kp\\cos\\theta}{r^3} \\\\\n",
    "    E_\\theta &= \\frac{kp\\sin\\theta}{r^3}\n",
    "\\end{align*}\n",
    "$$\n",
    "\n",
    "---"
   ]
  },
  {
   "cell_type": "markdown",
   "metadata": {},
   "source": [
    "**(Part d)** A positively charged dust particle with mass $m$ and charge $+q$ is released from rest at point B (not shown in the drawing) located on the $y$-axis at the point given in polar coordinates by $(d,0), d>a$. In what direction will it accelerate? What is the speed of the particle when it has traveled a distance $s$ from its original position at point B? Answer this equation using the exact formulas, not the approximation given in **Part b**."
   ]
  },
  {
   "cell_type": "markdown",
   "metadata": {},
   "source": [
    "The particle is along the dipole's axis and is closer to the positively charged object so the particle will move in the $+y$ direction. The potential energy at any given point (for a positively charged particle) is\n",
    "$$\n",
    "\\begin{align*}\n",
    "    U(r,\\theta) = q\\bigg[\\frac{kq}{(r^2-2ar\\cos\\theta+a^2)^{1/2}} - \\frac{kq}{(r^2+2ar\\cos\\theta+a^2)^{1/2}}\\bigg]\n",
    "\\end{align*}\n",
    "$$\n",
    "Then the change in potential energy that this particle experiences is\n",
    "$$\n",
    "\\begin{align*}\n",
    "    U(s+d,\\theta) - U(d,\\theta) &= q\\bigg[\\frac{kq}{((s+d)^2-2a(s+d)+a^2)^{1/2}} - \\frac{kq}{((s+d)^2+2a(s+d)+a^2)^{1/2}} \\\\\n",
    "    & - \\frac{kq}{(d^2-2ad+a^2)^{1/2}} + \\frac{kq}{(d^2+2ad+a^2)^{1/2}}\\bigg] \\\\\n",
    "    \\Delta U &= kq^2\\bigg[\\frac{1}{s+d-a} - \\frac{1}{s+d+a} - \\frac{1}{d-a} + \\frac{1}{d+a}\\bigg] \\\\\n",
    "    &= kq^2\\bigg[\\frac{(s+d+a)-(s+d-a)}{(s+d-a)(s+d+a)} - \\frac{(d+a)-(d-a)}{(d-a)(d+a)}\\bigg] \\\\\n",
    "    &= 2kq^2a\\bigg[\\frac{1}{(s+d-a)(s+d+a)} - \\frac{1}{(d-a)(d+a)}\\bigg]\n",
    "\\end{align*}\n",
    "$$\n",
    "\n",
    "Applying conservation of energy, the sum of the change in kinetic energy and change in potential energy must be 0, i.e. $\\Delta K + \\Delta U = 0$. Then the velocity or the particle after traveling a distance $s$ is\n",
    "$$\n",
    "\\begin{align*}\n",
    "    K(s+d,\\theta) - K(d,\\theta) &= -\\Delta U \\\\\n",
    "    \\frac{1}{2}mv^2 &= 2kq^2a\\bigg[\\frac{1}{(d-a)(d+a)} - \\frac{1}{(s+d-a)(s+d+a)}\\bigg] \\\\\n",
    "    v^2 &= \\frac{4kq^2a}{m}\\bigg[\\frac{1}{(d-a)(d+a)} - \\frac{1}{(s+d-a)(s+d+a)}\\bigg] \\\\\n",
    "    v &= \\sqrt{\\frac{4kq^2a}{m}\\bigg[\\frac{1}{(d-a)(d+a)} - \\frac{1}{(s+d-a)(s+d+a)}\\bigg]}\n",
    "\\end{align*}\n",
    "$$\n",
    "\n",
    "---\n",
    "---"
   ]
  },
  {
   "cell_type": "markdown",
   "metadata": {},
   "source": [
    "### Problem 2: Charged Particle Near a Uniform Ring\n",
    "\n",
    "Consider a thin ring of charge with a total charge of $+Q$ and radius $R$ as shown in the figure below.\n",
    "\n",
    "![w4ps2](./images/w4ps2.svg)"
   ]
  },
  {
   "cell_type": "markdown",
   "metadata": {},
   "source": [
    "**(Part a)** Find an expression for the electric potential $V(z)$ at the point $P$ shown in the figure which is along the axis of the ring and a distance $z$ above its center. Use the convention where $V(\\infty) = 0$."
   ]
  },
  {
   "cell_type": "markdown",
   "metadata": {},
   "source": [
    "The distance from any point on the ring to the point $P$ is\n",
    "$$\n",
    "    r = \\sqrt{z^2+R^2}\n",
    "$$\n",
    "Then the electric potential at point $P$ is\n",
    "$$\n",
    "    V(z) = \\frac{kQ}{\\sqrt{z^2+R^2}}\n",
    "$$\n",
    "\n",
    "---"
   ]
  },
  {
   "cell_type": "markdown",
   "metadata": {},
   "source": [
    "**(Part b)** A small negatively charged particle with mass $m$ and charge $-q$ (with $q>0$) is released from rest at the point $P$. In what direction will it accelerate? What is the speed of the particle when it reaches the center of the ring?"
   ]
  },
  {
   "cell_type": "markdown",
   "metadata": {},
   "source": [
    "The change in potential energy is\n",
    "$$\n",
    "\\begin{align*}\n",
    "    \\Delta U &= -q\\Delta V \\\\\n",
    "    &= -q(U(0) - U(z)) \\\\\n",
    "    &= q(U(z) - U(0)) \\\\\n",
    "    &= kQq\\bigg(\\frac{1}{\\sqrt{z^2+R^2}}-\\frac{1}{R}\\bigg)\n",
    "\\end{align*}\n",
    "$$\n",
    "\n",
    "Applying conservation of energy,\n",
    "$$\n",
    "\\begin{align*}\n",
    "    \\Delta K &= -\\Delta U \\\\\n",
    "    \\frac{1}{2}mv^2 &= kQq\\bigg(\\frac{1}{R} - \\frac{1}{\\sqrt{z^2+R^2}}\\bigg) \\\\\n",
    "    v &= \\sqrt{\\frac{2kQq}{m}\\bigg(\\frac{1}{R} - \\frac{1}{\\sqrt{z^2+R^2}}\\bigg)}\n",
    "\\end{align*}\n",
    "$$\n",
    "\n",
    "---\n",
    "---"
   ]
  },
  {
   "cell_type": "markdown",
   "metadata": {},
   "source": [
    "### Problem 3: Charged Disk\n",
    "\n",
    "In the presence of some distribution of charge, there are two distinct ways to find the electric potential difference between any two points in space. The first approach involves setting up and calculating the electric potential difference using the definition\n",
    "\n",
    "$$\n",
    "    V(B) - V(A) = -\\int^B_A\\vec{\\mathbf{E}}\\cdot d\\vec{\\mathbf{s}}\n",
    "$$\n",
    "\n",
    "In order to apply this result, you must first calculate the electric field using the integral version of Coulomb's Law\n",
    "\n",
    "$$\n",
    "    \\vec{E}(\\vec{r}) = \\frac{1}{4\\pi\\epsilon_0}\\int\\frac{\\rho(\\vec{r}')(\\vec{r}-\\vec{r}')}{|\\vec{r}-\\vec{r}'|^3} dV.\n",
    "$$\n",
    "\n",
    "Alternatively, for sufficiently symmetric distributions, you could calculate $\\mathbf{E}$ using Gauss's Law and then integrate to get the potential difference.\n",
    "\n",
    "The other way to find potential differences is to use the fact that for a single point-like charged object with charge $dq$ located at the origin, the electric potential difference between infinity and the field point $P$ located at a distance $r$ from the charged object is given by\n",
    "\n",
    "$$\n",
    "    V(r) - V(\\infty) = -\\int^r_\\infty \\vec{\\mathbf{E}}\\cdot d\\vec{\\mathbf{s}} = \\frac{1}{4\\pi\\epsilon_0}\\frac{dq}{r}.\n",
    "$$\n",
    "\n",
    "Now let's generalize this to a continuous source charge distribution.\n",
    "\n",
    "![w4ps3a](./images/w4ps3a.jpg)\n",
    "\n",
    "Consider an infinitesimal charge element $dq = \\rho(\\vec{r}')dV$, where $\\vec{r}'$ is the source vector from the origin to the infinitesimal charge element. Let the vector $\\vec{r}$ denote the vector from the origin to the field point $P$. Then $|\\vec{r}-\\vec{r}'|$ is the distance from the infinitesimal charge element to the field point $P$. We set $V(\\infty) = 0$. Then the potential difference between infinity and the field point $P$ due to just the charge $dq$ is\n",
    "\n",
    "$$\n",
    "    dV(\\vec{r}) = \\frac{1}{4\\pi\\epsilon_0}\\frac{dq}{|\\vec{r}-\\vec{r}'|} = \\frac{1}{4\\pi\\epsilon_0}\\frac{\\rho(\\vec{r}')dV}{|\\vec{r}-\\vec{r}'|},\\quad V(\\infty) = 0.\n",
    "$$\n",
    "\n",
    "We now apply the superposition principle and therefore integrate over the source charge distribution and find that\n",
    "\n",
    "$$\n",
    "    V(\\vec{r}) = \\frac{1}{4\\pi\\epsilon_0}\\int_\\text{source}\\frac{\\rho(\\vec{r}')dV}{|\\vec{r}-\\vec{r}'|},\\quad V(\\infty) = 0.\n",
    "$$\n",
    "\n",
    "Given an expression for the potential at any location $\\vec{r}$, the difference between two points can be easily found by simply subtracting the potential at one point from the potential at the other one.\n",
    "\n",
    "One of the most important learning objectives is to determine which of these approaches to choose. For some problems, both approaches are manageable, but one may be easier than the other. "
   ]
  },
  {
   "cell_type": "markdown",
   "metadata": {},
   "source": [
    "**(Part a)** A thin disk with outer radius $R_2 = 3$ cm has a circular hole of radius $R_1 = 1$ cm in the middle. There is a uniform negative surface charge density $\\sigma = -10^{-7}$ C/m $^2$ on the disk.\n",
    "\n",
    "![w4ps3b](./images/w4ps3b.png)\n",
    "\n",
    "What is the electric potential at the center of the hole?"
   ]
  },
  {
   "cell_type": "markdown",
   "metadata": {},
   "source": [
    "Note that the measurements of the disk was given in cm. Integrating over the disk:\n",
    "$$\n",
    "\\begin{align*}\n",
    "    V(z) &= \\int^{2\\pi}_{0}\\int^{0.03}_{0.01} \\frac{k\\sigma}{\\sqrt{r^2-z^2}}rdrd\\theta \\\\\n",
    "    V(0) &= \\int^{2\\pi}_{0}\\int^{0.03}_{0.01} \\frac{k\\sigma}{\\sqrt{r^2-0^2}}rdrd\\theta \\\\\n",
    "    V(0) &= 2\\pi k\\sigma r\\bigg|^{0.03}_{0.01} \\\\\n",
    "    V(0) &= 0.04\\pi k\\sigma \\\\\n",
    "    V(0) &= -113\\text{ V}\n",
    "\\end{align*}\n",
    "$$\n",
    "\n",
    "---"
   ]
  },
  {
   "cell_type": "markdown",
   "metadata": {},
   "source": [
    "**(Part b)** An electron starts at a location very far away along the axis of the disk (far enough to be considered $z\\approx\\infty$). It is initially moving along the axis towards the sik with a velocity $\\vec{v}$ in the $-\\hat{z}$ direction. The electron experiences no forces except repulsion by the charges on the disk and is observed to stop exactly at the center of the hole. What was the initial speed $|\\vec{v}|$ of the electron? The mass of the electron is $m_e = 9.11\\times 10^{-31}$ kg. "
   ]
  },
  {
   "cell_type": "markdown",
   "metadata": {},
   "source": [
    "Applying conservation of energy:\n",
    "$$\n",
    "\\begin{align*}\n",
    "    K_f - K_i &= -\\Delta U \\\\\n",
    "    -K_i &= -\\Delta U \\\\\n",
    "    K_i &= q_e\\Delta V \\\\\n",
    "    \\frac{1}{2}mv^2 &= q_eV(0) \\\\\n",
    "    v &= \\sqrt{\\frac{2q_e}{m}V(0)}\n",
    "\\end{align*}\n",
    "$$\n",
    "where $q_e= -1.6\\times 10^{-19}$. Then the initial velocity of the election was\n",
    "$$\n",
    "v = 6.3\\times 10^6\\text{ m/s}\n",
    "$$\n",
    "\n",
    "---"
   ]
  },
  {
   "cell_type": "markdown",
   "metadata": {},
   "source": [
    "**(Part c)** A non-conducting disk of radius $R$ lies in the $xy$-plane and carries a non-uniform charge density $\\sigma=\\sigma_0 R/r$. Determine the electric potential on the axis of the disk at distance $z$ from its center. Check the limit where $z\\gg R$ to see that you recover the point-charge formula.\n",
    "\n",
    "![w4ps3c](./images/w4ps3c.png)\n",
    "\n",
    "Hint: The following integral may be helpful.\n",
    "$$\n",
    "\\int\\frac{dr}{\\sqrt{r^2+z^2}} = \\ln\\bigg[r+\\sqrt{r^2+z^2}\\bigg]\n",
    "$$"
   ]
  },
  {
   "cell_type": "markdown",
   "metadata": {},
   "source": [
    "The distance from a point on the disk to the point is $\\sqrt{r^2+z^2}$ and the integral becomes\n",
    "$$\n",
    "\\begin{align*}\n",
    "    V(z) &= 2\\pi\\int^R_0 \\frac{k\\sigma_0 R}{r\\sqrt{r^z+z^2}}rdr \\\\\n",
    "    &= 2\\pi k\\sigma_0 R \\int^R_0 \\frac{1}{\\sqrt{r^2+z^2}}dr \\\\\n",
    "    &= 2\\pi k\\sigma_0 R \\ln\\bigg[r +\\sqrt{r^2+z^2}\\bigg]^R_0 \\\\\n",
    "    &= 2\\pi k\\sigma_0 R \\ln\\bigg(\\frac{R+\\sqrt{R^2+z^2}}{z}\\bigg).\n",
    "\\end{align*}\n",
    "$$\n",
    "Note that the total charge of the of the disk is $\\sigma\\cdot 2\\pi R$. When $z\\gg R$, the electric potential becomes\n",
    "$$\n",
    "\\begin{align*} \n",
    "    V(z) &= 2\\pi k\\sigma_0 R \\ln\\bigg(\\frac{R}{z}+\\frac{z\\sqrt{R^2/z^2+1}}{z}\\bigg) \\\\\n",
    "    &= 2\\pi k\\sigma_0 R \\ln\\bigg(\\frac{R}{z}+\\sqrt{R^2/z^2+1}\\bigg)\n",
    "\\end{align*}\n",
    "$$\n",
    "Since $z\\gg R$,$R^2/z^2\\approx 0$ and we have\n",
    "$$\n",
    "\\begin{align*}\n",
    "    V(z) &= 2\\pi k\\sigma_0 R \\ln\\bigg(\\frac{R}{z}+1\\bigg)\n",
    "\\end{align*}\n",
    "$$\n",
    "Using Taylor expansion or linear approximation, $\\ln(R/z+1)\\approx R/z$ so\n",
    "$$\n",
    "\\begin{align*}\n",
    "    V(z) &= 2\\pi k\\sigma_0 R \\frac{R}{z} \\\\\n",
    "    &= \\frac{2\\pi k\\sigma_0 R^2}{z} \\\\\n",
    "    &= \\frac{2\\pi k\\sigma R}{z} \\\\\n",
    "    &= \\frac{k(2\\pi\\sigma R)}{z} \\\\\n",
    "    &= \\frac{kQ}{z}\n",
    "\\end{align*}\n",
    "$$\n",
    "which is the potential for a point-charge.\n",
    "\n",
    "---\n",
    "---"
   ]
  },
  {
   "cell_type": "markdown",
   "metadata": {},
   "source": [
    "### Problem 4: Electric Potential Difference for a Uniformly Charged Slab\n",
    "\n",
    "![w4ps4](./images/w4ps4.svg)\n",
    "\n",
    "Consider a semi-infinite slab of charge with uniform positive charge density $\\rho > 0$ that extends from $x=-d$ to $x=d$. Find the electric potential difference $V(B)-V(P)$ between the points $B$ and $P$ that lie on the $x$-axis. The point $B$ lies outside the slab with $x_B>d$ and the point $P$ lies at the center of the slab with $x_P=0$."
   ]
  },
  {
   "cell_type": "markdown",
   "metadata": {},
   "source": [
    "To determine the electric potential difference from $P$ to $B$, we need to consider the region inside the slab, $-d<x<d$, and to the right of the slab, $x\\geq d$, to apply the superposition principle.\n",
    "\n",
    "Let's first observe the the inside of the slab. Consider a cylindrical Gaussian surface and apply Gauss's Law:\n",
    "$$\n",
    "\\begin{align*}\n",
    "    EA &= \\frac{q}{\\epsilon_0} \\\\\n",
    "    EA &= \\frac{1}{\\epsilon_0}\\int^x_{0}\\rho A dx' \\\\\n",
    "    EA &= \\frac{A\\rho x}{\\epsilon_0} \\\\\n",
    "    E &= \\frac{\\rho x}{\\epsilon_0} \\\\\n",
    "    \\vec{\\mathbf{E}} &= \\frac{\\rho x}{\\epsilon_0}\\hat{\\mathbf{i}}.\n",
    "\\end{align*}\n",
    "$$\n",
    "Now consider outside the slab:\n",
    "$$\n",
    "\\begin{align*}\n",
    "    EA &= \\frac{q}{\\epsilon_0} \\\\\n",
    "    EA &= \\frac{1}{\\epsilon_0}\\int^d_0\\rho A dx' \\\\\n",
    "    EA &= \\frac{A\\rho d}{\\epsilon_0} \\\\\n",
    "    E &= \\frac{\\rho d}{\\epsilon_0} \\\\\n",
    "    \\vec{\\mathbf{E}} &= \\frac{\\rho d}{\\epsilon_0}\n",
    "\\end{align*}\n",
    "$$\n",
    "\n",
    "Now apply the superposition principle to determine the electric potential difference.\n",
    "$$\n",
    "\\begin{align*}\n",
    "    V(x_B) - V(0) &= [V(x_B)-V(d)]+[V(d)-V(0)] \\\\\n",
    "    &= -\\int^{x_B}_{d} \\frac{\\rho d }{\\epsilon_0} dx - \\int^d_0 \\frac{\\rho x}{\\epsilon_0} dx \\\\\n",
    "    &= \\frac{\\rho d}{\\epsilon_0}(d-x_B) - \\bigg[\\frac{\\rho x^2}{2\\epsilon_0}\\bigg]^d_0 \\\\\n",
    "    &= \\frac{\\rho d}{\\epsilon_0}(d-x_B) - \\frac{\\rho d}{\\epsilon}(d/2) \\\\\n",
    "    &= \\frac{\\rho d}{\\epsilon_0}\\bigg(\\frac{d}{2}-x_B\\bigg)\n",
    "\\end{align*}\n",
    "$$\n",
    "\n",
    "---\n",
    "---"
   ]
  },
  {
   "cell_type": "markdown",
   "metadata": {},
   "source": [
    "### Problem 5: Partial Derivatives and the Gradient\n",
    "\n",
    "Consider a point-like positively charged object with charge $+q$ located at the origin. Choosing $V(\\infty)$ = 0, one can show that the electric potential difference $V(r) - V)\\infty) = V(r)$ between infinity and any point on a sphere of radius $r$ centered on the origin is given by the expression\n",
    "$$\n",
    "V(r) = \\frac{1}{4\\pi\\epsilon_0} \\frac{q}{r}\n",
    "$$"
   ]
  },
  {
   "cell_type": "markdown",
   "metadata": {},
   "source": [
    "**(Part a)** Find an expression for the potential in Cartesian coordinates $(x,y,z)$."
   ]
  },
  {
   "cell_type": "markdown",
   "metadata": {},
   "source": [
    "$$\n",
    "V(x,y,z) = \\frac{kq}{\\sqrt{x^2+y^2+z^2}}\n",
    "$$\n",
    "---"
   ]
  },
  {
   "cell_type": "markdown",
   "metadata": {},
   "source": [
    "**(Part b)** Calculate the three partial derivatives."
   ]
  },
  {
   "cell_type": "markdown",
   "metadata": {},
   "source": [
    "$$\n",
    "\\begin{align*}\n",
    "    \\frac{\\partial V}{\\partial x} &= -\\frac{kqx}{r^3} \\\\\n",
    "    \\frac{\\partial V}{\\partial y} &= -\\frac{kqy}{r^3} \\\\\n",
    "    \\frac{\\partial V}{\\partial z} &= -\\frac{kqz}{r^3}\n",
    "\\end{align*}\n",
    "$$\n",
    "\n",
    "---"
   ]
  },
  {
   "cell_type": "markdown",
   "metadata": {},
   "source": [
    "**(Part c)** Again consider $V(x, y, z) = \\frac{kq}{\\sqrt{x^2+y^2+z^2}}$. Calculate its gradient, $\\vec{\\nabla}V$."
   ]
  },
  {
   "cell_type": "markdown",
   "metadata": {},
   "source": [
    "$$\n",
    "    \\vec{\\nabla}V = -\\frac{kq\\vec{r}}{r^3}\n",
    "$$\n",
    "---"
   ]
  },
  {
   "cell_type": "markdown",
   "metadata": {},
   "source": [
    "**(Part d)** Based on your answer to part **(Part c)**, what is the relationship between the gradient, $\\vec{\\nabla}V$, and the electric field?"
   ]
  },
  {
   "cell_type": "markdown",
   "metadata": {},
   "source": [
    "From Coulomb's Law, the electric field is\n",
    "$$\n",
    "    \\vec{\\mathbf{E}} = \\frac{kq\\vec{r}}{r^3}.\n",
    "$$\n",
    "Then the relationship between the $\\vec{\\nabla}V$ and the electric field is\n",
    "$$\n",
    "    \\vec{\\mathbf{E}} = -\\vec{\\nabla}V\n",
    "$$\n",
    "---"
   ]
  },
  {
   "cell_type": "markdown",
   "metadata": {},
   "source": [
    "**(Part e)** \n",
    "\n",
    "(i) For a point-like charged object, does the gradient $\\vec{\\nabla}V$ point in the direction or maximum increase of maximum decrease of the function $V$?\n",
    "\n",
    "(ii) Does the sign of the charge effect your answer to part (i)?"
   ]
  },
  {
   "cell_type": "markdown",
   "metadata": {},
   "source": [
    "If the source charge, $q$, is positive, then the gradient points in the opposite direction of $\\vec{r}$, if it is negative, then it points in the same direction as $\\vec{r}. This implies that the gradient always points in the maximum increase of the function $V$ - note that the gradient does not depend on the test charge.\n",
    "\n",
    "---"
   ]
  },
  {
   "cell_type": "markdown",
   "metadata": {},
   "source": [
    "**(Part f)** Using the result that $\\vec{\\mathbf{E}} = -\\vec{\\nabla}V$, does the electric field depend on your choice of point for the zero reference electric potential?"
   ]
  },
  {
   "cell_type": "markdown",
   "metadata": {},
   "source": [
    "No, the point for the zero reference electric potential is a constant. When we take the derivative, the constant becomes 0.\n",
    "\n",
    "---\n",
    "---"
   ]
  },
  {
   "cell_type": "markdown",
   "metadata": {},
   "source": []
  }
 ],
 "metadata": {
  "language_info": {
   "name": "python"
  }
 },
 "nbformat": 4,
 "nbformat_minor": 2
}
