{
 "cells": [
  {
   "cell_type": "markdown",
   "metadata": {},
   "source": [
    "# Week 1: Electrostatics\n",
    "📅 Date: 9 July, 2025\n",
    "\n",
    "---\n",
    "---"
   ]
  },
  {
   "cell_type": "markdown",
   "metadata": {},
   "source": [
    "### Problem 1: Unit vector decomposition for Coulomb's Law\n",
    "![w1ps1](./images/w1ps1.svg)\n",
    "\n",
    "Two point charges are fixed on a grid as shown. The squares forming the grid have sides of length $a$. Consider a coordinate system with unit vectors $\\hat{i}$, $\\hat{j}$ in the directions shown and with its origin at charge 1 ($q_1$)."
   ]
  },
  {
   "cell_type": "markdown",
   "metadata": {},
   "source": [
    "**(Part a)** Calculate $\\hat{r}_{1,2}$, the unit vector pointing from charge 1 to charge 2. Express your answer in terms of $\\hat{i}$, $\\hat{j}$, and $a$ as needed."
   ]
  },
  {
   "cell_type": "markdown",
   "metadata": {},
   "source": [
    "The vector pointing from charge 1 to charge 2 is\n",
    "$$ \\vec{r}_{1,2} = 4a\\hat{i} - 3a\\hat{j} $$\n",
    "with a length of \n",
    "$$ |\\vec{r}_{1,2}| = \\sqrt{(4a)^2 + (-3a)^2} = 5a $$\n",
    "Then the unit vector pointing from charge 1 to charge 2 is\n",
    "$$ \\hat{r}_{1,2} = \\frac{\\vec{r}_{1,2}}{|\\vec{r}_{1,2}|} = \\frac{4\\hat{i} - 3\\hat{j}}{5} $$\n",
    "\n",
    "---"
   ]
  },
  {
   "cell_type": "markdown",
   "metadata": {},
   "source": [
    "**(Part b)** If $q_1 = q$ and $q_2 = -2q$, where $q > 0$, calculate the $x$ and $y$ components of the force exerted by charge $q_1$ on charge $q_2$ (where the $x$ and $y$ axes are in the $\\hat{i}$ and $\\hat{j}$ directions, respectively) in terms of $k$, $a$, and $q$."
   ]
  },
  {
   "cell_type": "markdown",
   "metadata": {},
   "source": [
    "The $x$ component of the force exerted on charge $q_1$ on charge $q_2$ is\n",
    "$$\n",
    "\\begin{align*}\n",
    "    F_x &= kq_1q_2\\frac{r_x}{|\\vec{r}_{1,2}|^3} \\\\\n",
    "    &= -2kq^2\\frac{4a}{(5a)^3} \\\\\n",
    "    &= \\frac{-8kq^2}{125a^2}\n",
    "\\end{align*}\n",
    "$$\n",
    "The $y$ component of the force is\n",
    "$$\n",
    "\\begin{align*}\n",
    "    F_y &= kq_1q_2\\frac{r_y}{|\\vec{r}_{1,2}|^3} \\\\\n",
    "    &= -2kq^2\\frac{-3a}{(5a)^3} \\\\\n",
    "    &= \\frac{6kq^2}{125a^2}\n",
    "\\end{align*}\n",
    "$$\n",
    "\n",
    "---\n",
    "---"
   ]
  },
  {
   "cell_type": "markdown",
   "metadata": {},
   "source": [
    "### Problem 2: Force between two charges\n",
    "![w1ps2](./images/w1ps2.svg)\n",
    "\n",
    "Two small objects are in the $(x,y)$ plane as shown. Measured in meters from the zero of the coordinate system, the object of charge $q_1 = +2q$ is at position $\\vec{r}_1 = (1\\hat{i} + 2\\hat{j})\\text{ m}$, and the object of charge $q_2 = +5q$ is at position $\\vec{r}_2 = (4\\hat{i}+3\\hat{j})\\text{ m}$."
   ]
  },
  {
   "cell_type": "markdown",
   "metadata": {},
   "source": [
    "**(Part a)** If $q=2\\mu C$ and the Coulomb constant is $k=9\\times 10^9\\text{ N}\\cdot\\text{C}^{-2}\\cdot\\text{m}^2$, calculate the $x$ component of the force exerted by charge 1 on charge 2."
   ]
  },
  {
   "cell_type": "markdown",
   "metadata": {},
   "source": [
    "First, we can see that the vector pointing from charge 1 to charge 2 is\n",
    "$$\n",
    "\\begin{align*}\n",
    "    \\vec{r}_{1,2} &= \\vec{r}_2 - \\vec{r}_1 \\\\\n",
    "    &= (3\\hat{i} + \\hat{j})\\text{ m}\n",
    "\\end{align*}\n",
    "$$\n",
    "and has a magnitude of\n",
    "$$\n",
    "\\begin{align*}\n",
    "    |\\vec{r}_{1,2}| &= \\sqrt{(3\\text{ m})^2 + (1\\text{ m})^2} \\\\\n",
    "    &= \\sqrt{10}\\text{ m}\n",
    "\\end{align*}\n",
    "$$\n",
    "Then the $x$ component of the force exerted by charge 1 on charge 2 is\n",
    "$$\n",
    "\\begin{align*}\n",
    "    F_x &= kq_1q_2\\frac{r_x}{|\\vec{r}_{1,2}|^3} \\\\\n",
    "    &= 10kq^2\\frac{3}{10\\sqrt{10}} \\\\\n",
    "    &= kq^2\\frac{3}{\\sqrt{10}} \\\\\n",
    "    &= 3.42\\times 10^{-2}\\text{ N}.\n",
    "\\end{align*}\n",
    "$$\n",
    "\n",
    "---"
   ]
  },
  {
   "cell_type": "markdown",
   "metadata": {},
   "source": [
    "**(Part b)** Calculate the $y$ component of the force exerted by charge 1 on charge 2."
   ]
  },
  {
   "cell_type": "markdown",
   "metadata": {},
   "source": [
    "The $y$ component of the force is\n",
    "$$\n",
    "\\begin{align*}\n",
    "    F_y &= kq_1q_2\\frac{r_y}{|\\vec{r}_{1,2}|^3} \\\\\n",
    "    &= 10kq^2\\frac{1}{10\\sqrt{10}} \\\\\n",
    "    &= kq^2\\frac{1}{\\sqrt{10}} \\\\\n",
    "    &= 1.14\\times 10^{-2}\\text{ N}.\n",
    "\\end{align*}\n",
    "$$\n",
    "\n",
    "---\n",
    "---"
   ]
  },
  {
   "cell_type": "markdown",
   "metadata": {},
   "source": [
    "### Problem 3: Superposition\n",
    "![w1ps3](./images/w1ps3.svg)\n",
    "\n",
    "Two point charges $q_1 = -2q$ and $q_2 = +q$, where $q > 0$, are separated by a distance $a$ in the $\\hat{j}$ direction. A third charge $q_3 = +5q$, is placed a distance $2a$ away from $q_2$ in the $\\hat{i}$ direction as shown."
   ]
  },
  {
   "cell_type": "markdown",
   "metadata": {},
   "source": [
    "**(Part a)** Calculate $\\vec{F}_{1,3}$, the force exerted by the charge $q_1$ on the charge $q_3$. Express your answer in terms of $k$, $q$, $a$, $\\hat{i}$, and$\\hat{j}$ as needed."
   ]
  },
  {
   "cell_type": "markdown",
   "metadata": {},
   "source": [
    "Let charge 1 be at the origin. The vector pointing from charge 1 to charge 3 is\n",
    "$$\n",
    "\\vec{r}_{1,3} = 2a\\hat{i} + a\\hat{j}\n",
    "$$\n",
    "with magnitude\n",
    "$$\n",
    "|\\vec{r}_{1,3}| = \\sqrt{4a^2 + a^2} = \\sqrt{5}a\n",
    "$$\n",
    "Then the force exerted by charge 1 on charge 3 is\n",
    "$$\n",
    "\\begin{align*}\n",
    "    \\vec{F}_{1,3} &= kq_1q_3\\frac{\\vec{r}_{1,3}}{|\\vec{r}_{1,3}|^3} \\\\\n",
    "    &= -10kq^2\\frac{2a\\hat{i} + a\\hat{j}}{5\\sqrt{5}a^3} \\\\\n",
    "    &= -2kq^2\\frac{2\\hat{i} + \\hat{j}}{\\sqrt{5}a^2} \n",
    "\\end{align*}\n",
    "$$\n",
    "\n",
    "---"
   ]
  },
  {
   "cell_type": "markdown",
   "metadata": {},
   "source": [
    "**(Part b)** Calculate $\\vec{F}_{2,3}$, the force exerted by the charge 2 on the charge 3. Express your answer in terms of $k$, $q$, $a$, $\\hat{i}$, and $\\hat{j}$ as needed."
   ]
  },
  {
   "cell_type": "markdown",
   "metadata": {},
   "source": [
    "Charge 2 and charge 3 are along the same horizontal line so the vector pointing from charge 2 to charge 3 is\n",
    "$$\n",
    "\\vec{r}_{2,3} = 2a\\hat{i}\n",
    "$$\n",
    "with magnitude\n",
    "$$\n",
    "|\\vec{r}_{2,3}| = 2a\n",
    "$$\n",
    "Then the force exerted by charge 2 on charge 3 is\n",
    "$$\n",
    "\\begin{align*}\n",
    "    \\vec{F}_{2,3} &= kq_2q_3\\frac{\\vec{r}_{2,3}}{|\\vec{r}_{2,3}|^3} \\\\\n",
    "    &= 5kq^2\\frac{2a\\hat{i}}{8a^3} \\\\\n",
    "    &= 5kq^2\\frac{\\hat{i}}{4a^2}\n",
    "\\end{align*}\n",
    "$$\n",
    "\n",
    "---"
   ]
  },
  {
   "cell_type": "markdown",
   "metadata": {},
   "source": [
    "**(Part c)** Calculate $\\vec{F}_3$, the total force exerted by both charges 1 and 2 on charge 3. Express your answer in terms of $k$, $q$, $a$, $\\hat{i}$, and $\\hat{j}$ as needed."
   ]
  },
  {
   "cell_type": "markdown",
   "metadata": {},
   "source": [
    "$$\n",
    "\\begin{align*}\n",
    "    \\vec{F}_3 &= \\vec{F}_{1,3} + \\vec{F}_{2,3} \\\\\n",
    "    &= -2kq^2\\frac{2\\hat{i} + \\hat{j}}{\\sqrt{5}a^2} + 5kq^2\\frac{\\hat{i}}{4a^2}\n",
    "\\end{align*}\n",
    "$$\n",
    "\n",
    "---\n",
    "---"
   ]
  },
  {
   "cell_type": "markdown",
   "metadata": {},
   "source": [
    "### Problem 4: Unit Vector Decomposition for Electric Field\n",
    "![w1ps4](./images/w1ps4.svg)\n",
    "\n",
    "Two point charges are fixed on a grid as shown. The squares forming the grid have sides of length $a$. Consider a coordinate system with unit vectors $\\hat{i}$, $\\hat{j}$ in the directions shown."
   ]
  },
  {
   "cell_type": "markdown",
   "metadata": {},
   "source": [
    "**(Part a)** Calculate $\\hat{r}_{1,P}$, the unit vector pointing from charge 1 to the point $P$. Express your answer in terms of $\\hat{i}$, $\\hat{j}$, and $a$ as needed."
   ]
  },
  {
   "cell_type": "markdown",
   "metadata": {},
   "source": [
    "The unit vector pointing from charge 1 to point $P$ is\n",
    "$$\n",
    "\\begin{align*}\n",
    "    \\hat{r}_{1,P} &= \\frac{\\vec{r}_{1,P}}{|\\vec{r}_{1,P}|} \\\\\n",
    "    &= \\frac{2a\\hat{i} - a\\hat{j}}{\\sqrt{4a^2 + 1a^2}} \\\\\n",
    "    &= \\frac{2\\hat{i} - \\hat{j}}{\\sqrt{5}}\n",
    "\\end{align*}\n",
    "$$\n",
    "\n",
    "---"
   ]
  },
  {
   "cell_type": "markdown",
   "metadata": {},
   "source": [
    "**(Part b)** Calculate $\\hat{r}_{2,P}$, the unit vector pointing from charge 2 to the point $P$. Express your answer in terms of $\\hat{i}$, $\\hat{j}$, and $a$ as needed."
   ]
  },
  {
   "cell_type": "markdown",
   "metadata": {},
   "source": [
    "The unit vector pointing from charge 2 to point $P$ is\n",
    "$$\n",
    "\\begin{align*}\n",
    "    \\hat{r}_{2,P} &= \\frac{\\vec{r}_{2,P}}{|\\vec{r}_{2,P}|} \\\\\n",
    "    &= \\frac{-2a\\hat{i} + 2a\\hat{j}}{\\sqrt{4a^2 + 4a^2}} \\\\\n",
    "    &= \\frac{-2a\\hat{i} + 2a\\hat{j}}{\\sqrt{8}a} \\\\\n",
    "    &= \\frac{-\\hat{i} + \\hat{j}}{\\sqrt{2}}\n",
    "\\end{align*}\n",
    "$$\n",
    "\n",
    "---"
   ]
  },
  {
   "cell_type": "markdown",
   "metadata": {},
   "source": [
    "**(Part c)** If $q_1 = q$ and $q_2 = -2q$, where $q > 0$, calculate the $x$ and $y$ components of the total electric field (where the $x$ and $y$ axes are in the $\\hat{i}$ and $\\hat{j}$ directions, respectively) created by charges $q_1$ and $q_2$ at the point $P$ in terms of $k$, $a$, and $q$."
   ]
  },
  {
   "cell_type": "markdown",
   "metadata": {},
   "source": [
    "The $x$ component is\n",
    "$$\n",
    "\\begin{align*}\n",
    "    E_x &= k\\bigg(\\frac{q_1r_{1,P,x}}{|\\vec{r}_{1,P}|^3} + \\frac{q_2r_{2,P,x}}{|\\vec{r}_{2,P}|^3}\\bigg) \\\\\n",
    "    &= k\\bigg(\\frac{2aq}{5\\sqrt{5}a^3} + \\frac{4aq}{8\\sqrt{8}a^3}\\bigg) \\\\\n",
    "    &= kq\\bigg(\\frac{2}{5\\sqrt{5}a^2} + \\frac{1}{4\\sqrt{2}a^2}\\bigg)\n",
    "\\end{align*}\n",
    "$$\n",
    "The $y$ component is\n",
    "$$\n",
    "\\begin{align*}\n",
    "    E_y &= k\\bigg(\\frac{q_1r_{1,P,y}}{|\\vec{r}_{1,P}|^3} + \\frac{q_2r_{2,P,y}}{|\\vec{r}_{2,P}|^3}\\bigg) \\\\\n",
    "    &= k\\bigg(\\frac{-aq}{5\\sqrt{5}a^3} + \\frac{-4aq}{8\\sqrt{8}a^3}\\bigg) \\\\\n",
    "    &= -kq\\bigg(\\frac{1}{5\\sqrt{5}a^2} + \\frac{1}{4\\sqrt{2}a^2}\\bigg)\n",
    "\\end{align*}\n",
    "$$\n",
    "\n",
    "---\n",
    "---"
   ]
  },
  {
   "cell_type": "markdown",
   "metadata": {},
   "source": []
  }
 ],
 "metadata": {
  "language_info": {
   "name": "python"
  }
 },
 "nbformat": 4,
 "nbformat_minor": 2
}
