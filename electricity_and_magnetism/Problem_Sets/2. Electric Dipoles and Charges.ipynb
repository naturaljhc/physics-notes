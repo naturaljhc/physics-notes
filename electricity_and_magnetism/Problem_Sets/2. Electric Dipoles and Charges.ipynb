{
 "cells": [
  {
   "cell_type": "markdown",
   "metadata": {},
   "source": [
    "# Week 2: Electric Dipoles and Charges\n",
    "📅 Date: 10 July, 2025\n",
    "\n",
    "---"
   ]
  },
  {
   "cell_type": "markdown",
   "metadata": {},
   "source": [
    "### Problem 1: Charge Density for Uniformly Charged Cylinder\n",
    "![w2ps1](./images/w2ps1.svg)\n",
    "\n",
    "A solid cylinder, of length $L$ and radius $R$, is uniformly charged with total charge $Q$"
   ]
  },
  {
   "cell_type": "markdown",
   "metadata": {},
   "source": [
    "**(Part a)** What is the volume charge density $\\rho$?"
   ]
  },
  {
   "cell_type": "markdown",
   "metadata": {},
   "source": [
    "The volume charge density is the charge divided by the volume:\n",
    "$$\n",
    "\\rho = \\frac{Q}{\\pi R^2 L}\n",
    "$$\n",
    "\n",
    "---"
   ]
  },
  {
   "cell_type": "markdown",
   "metadata": {},
   "source": [
    "**(Part b)** What is the linear charge density $\\lambda$?"
   ]
  },
  {
   "cell_type": "markdown",
   "metadata": {},
   "source": [
    "The linear charge density $\\lambda$ is the charge divided by the length of the rod:\n",
    "$$\n",
    "\\lambda = \\frac{Q}{L}\n",
    "$$\n",
    "\n",
    "---"
   ]
  },
  {
   "cell_type": "markdown",
   "metadata": {},
   "source": [
    "**(Part c)** What is the relationship between $\\rho$ and $\\lambda$?"
   ]
  },
  {
   "cell_type": "markdown",
   "metadata": {},
   "source": [
    "$$\n",
    "\\rho = \\frac{\\lambda}{\\pi R^2}\n",
    "$$\n",
    "\n",
    "---"
   ]
  },
  {
   "cell_type": "markdown",
   "metadata": {},
   "source": [
    "A cylindericl shell of length $L$ and radius $R$, with $L \\gg R$, is uniformly charged on its surface with total charge $Q$. We only place charge on the curved side surface of the cylinder. The end caps of the cylinder have no charge."
   ]
  },
  {
   "cell_type": "markdown",
   "metadata": {},
   "source": [
    "**(Part a)** What is the surface charge density $\\sigma$ on the cylinder in terms of the variables given?"
   ]
  },
  {
   "cell_type": "markdown",
   "metadata": {},
   "source": [
    "The surface area of the curved part of the cylinder is $2\\pi R L$ so the surface charge density is\n",
    "$$\n",
    "\\sigma = \\frac{Q}{2\\pi R L}\n",
    "$$\n",
    "\n",
    "---"
   ]
  },
  {
   "cell_type": "markdown",
   "metadata": {},
   "source": [
    "**(Part b)** Supose you go very far away from the cylinder to a distance much greater than $R$. The cylinder now looks like a line of charge. What is the linear charge density $\\lambda$ of that apparent line of charge?\n",
    "\n",
    "If the cylinder appears to be a line, the linear charge density is\n",
    "$$\n",
    "\\lambda = \\frac{Q}{L}\n",
    "$$\n",
    "\n",
    "---\n",
    "---"
   ]
  },
  {
   "cell_type": "markdown",
   "metadata": {},
   "source": []
  }
 ],
 "metadata": {
  "language_info": {
   "name": "python"
  }
 },
 "nbformat": 4,
 "nbformat_minor": 2
}
