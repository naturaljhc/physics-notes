{
 "cells": [
  {
   "cell_type": "markdown",
   "metadata": {},
   "source": [
    "# Week 2: Electric Dipoles and Charges\n",
    "📅 Date: 10 July, 2025\n",
    "\n",
    "---"
   ]
  },
  {
   "cell_type": "markdown",
   "metadata": {},
   "source": [
    "### Problem 1: Charge Density for Uniformly Charged Cylinder\n",
    "![w2ps1](./images/w2ps1.svg)\n",
    "\n",
    "A solid cylinder, of length $L$ and radius $R$, is uniformly charged with total charge $Q$"
   ]
  },
  {
   "cell_type": "markdown",
   "metadata": {},
   "source": [
    "**(Part a)** What is the volume charge density $\\rho$?"
   ]
  },
  {
   "cell_type": "markdown",
   "metadata": {},
   "source": [
    "The volume charge density is the charge divided by the volume:\n",
    "$$\n",
    "\\rho = \\frac{Q}{\\pi R^2 L}\n",
    "$$\n",
    "\n",
    "---"
   ]
  },
  {
   "cell_type": "markdown",
   "metadata": {},
   "source": [
    "**(Part b)** What is the linear charge density $\\lambda$?"
   ]
  },
  {
   "cell_type": "markdown",
   "metadata": {},
   "source": [
    "The linear charge density $\\lambda$ is the charge divided by the length of the rod:\n",
    "$$\n",
    "\\lambda = \\frac{Q}{L}\n",
    "$$\n",
    "\n",
    "---"
   ]
  },
  {
   "cell_type": "markdown",
   "metadata": {},
   "source": [
    "**(Part c)** What is the relationship between $\\rho$ and $\\lambda$?"
   ]
  },
  {
   "cell_type": "markdown",
   "metadata": {},
   "source": [
    "$$\n",
    "\\rho = \\frac{\\lambda}{\\pi R^2}\n",
    "$$\n",
    "\n",
    "---"
   ]
  },
  {
   "cell_type": "markdown",
   "metadata": {},
   "source": [
    "A cylindericl shell of length $L$ and radius $R$, with $L \\gg R$, is uniformly charged on its surface with total charge $Q$. We only place charge on the curved side surface of the cylinder. The end caps of the cylinder have no charge."
   ]
  },
  {
   "cell_type": "markdown",
   "metadata": {},
   "source": [
    "**(Part a)** What is the surface charge density $\\sigma$ on the cylinder in terms of the variables given?"
   ]
  },
  {
   "cell_type": "markdown",
   "metadata": {},
   "source": [
    "The surface area of the curved part of the cylinder is $2\\pi R L$ so the surface charge density is\n",
    "$$\n",
    "\\sigma = \\frac{Q}{2\\pi R L}\n",
    "$$\n",
    "\n",
    "---"
   ]
  },
  {
   "cell_type": "markdown",
   "metadata": {},
   "source": [
    "**(Part b)** Supose you go very far away from the cylinder to a distance much greater than $R$. The cylinder now looks like a line of charge. What is the linear charge density $\\lambda$ of that apparent line of charge?\n",
    "\n",
    "If the cylinder appears to be a line, the linear charge density is\n",
    "$$\n",
    "\\lambda = \\frac{Q}{L}\n",
    "$$\n",
    "\n",
    "---\n",
    "---"
   ]
  },
  {
   "cell_type": "markdown",
   "metadata": {},
   "source": [
    "### Problem 2: Electric Field of a Dipole Everywhere in Space\n",
    "\n",
    "An electric dipole consists of two equal but oppositely charged point-like objects, $+q$ and $-q$, separated by a distance $2a$, as shown in the figure below. Note that $\\hat{i}$ and $\\hat{j}$ are in the $+x$ and $+y$ directions, respectively, and $\\hat{k}$ points out of the page. \n",
    "![w2ps2](./images/w2ps2.jpg)\n",
    "\n",
    "The dipole moment vector $\\vec{\\mathbf{p}}$ points from $-q$ to $+q$ and is given by (with $\\hat{j}$ in the $+y$ direction):\n",
    "$$ \\vec{\\mathbf{p}} = 2qa\\hat{\\mathbf{j}} $$\n",
    "\n",
    "The magnitude of the electric dipole is $p=2qa$ where $q>0$. For an overall charge-neutral system having $N$ charged objects, the dipole vector $\\vec{\\mathbf{p}}$ is defined as\n",
    "$$ \\vec{\\mathbf{p}} = \\sum^{N}_{i=1} q_i\\vec{\\mathbf{r}}_i $$\n",
    "where $\\vec{\\mathbf{r}}_1$ is the position vector of the charged object with charge $q_i$."
   ]
  },
  {
   "cell_type": "markdown",
   "metadata": {},
   "source": [
    "**Question 1:** Find an expression for the vectors $\\vec{\\mathbf{r}}_+$ and $\\vec{\\mathbf{r}}_-$ in terms of $x$, $y$, $a$, $\\hat{\\mathbf{i}}$, and $\\hat{\\mathbf{j}}$"
   ]
  },
  {
   "cell_type": "markdown",
   "metadata": {},
   "source": [
    "$$\n",
    "\\begin{align*}\n",
    "    \\vec{\\mathbf{r}}_+ &= x\\hat{\\mathbf{i}} + (y-a)\\hat{\\mathbf{j}} \\\\\n",
    "    \\vec{\\mathbf{r}}_- &= x\\hat{\\mathbf{i}} + (y+a)\\hat{\\mathbf{j}}\n",
    "\\end{align*}\n",
    "$$\n",
    "\n",
    "---"
   ]
  },
  {
   "cell_type": "markdown",
   "metadata": {},
   "source": [
    "**Question 2:** Use the superposition principle to determine an expression for the $x$ and $y$ components of the electric field at the point $(x,y,0)$.\n",
    "\n",
    "Note that we have added an explicit position of $0$ in the $z$ direction. If the two charges and the point $P$ are all at $z=0$, the vectors $\\vec{\\mathbf{r}}_+$ and $\\vec{\\mathbf{r}}_-$ have no $\\hat{k}$ component, and therefore the component of the electric fields in the $\\hat{k}$ direction must also be zero.\n",
    "$$\n",
    "\\vec{\\mathbf{E}} (x,y,0)=E_x(x,y,0)\\hat{\\mathbf{i}}+E_y(x,y,0)\\hat{\\mathbf{j}} \t  \t \n",
    "$$\n",
    "Express your answers as functions of the field point coordinates $(x,y,0)$ using some or all of the following: $k_e$, $q$, $x$, $y$, and $a$, as needed. "
   ]
  },
  {
   "cell_type": "markdown",
   "metadata": {},
   "source": [
    "Substituting into the electric fields and applying the superposition principle yields\n",
    "$$\n",
    "\\begin{align*}\n",
    "    E_x &= k_eqx\\bigg(\\frac{1}{(x^2+(y-a)^2)^{3/2}}-\\frac{1}{(x^2+(y+a)^2)^{3/2}}\\bigg) \\\\\n",
    "    E_y &= k_eq\\bigg(\\frac{y-a}{(x^2+(y-a)^2)^{3/2}}-\\frac{y+a}{(x^2+(y+a)^2)^{3/2}}\\bigg)\n",
    "\\end{align*}\n",
    "$$\n",
    "\n",
    "---"
   ]
  },
  {
   "cell_type": "markdown",
   "metadata": {},
   "source": [
    "We can show that the electric field of the dipole in the limit where $r \\gg a$ is\n",
    "$$ E_x = \\frac{k_e 3p}{r^3}\\sin(\\theta)\\cos(\\theta),\\quad E_y = \\frac{k_e p}{r^3}(3\\cos^2(\\theta) - 1) $$\n",
    "where $\\theta$ is the angle show on the diagram so that $\\sin(\\theta) = x/r$ and $\\cos(\\theta) = y/r$."
   ]
  },
  {
   "cell_type": "markdown",
   "metadata": {},
   "source": [
    "**Question 3:** By what power of distance $r$ from the origin does the strength of the electric field fall off? How does this compare to a single point charge? Briefly explain a reason for the difference between these two cases. "
   ]
  },
  {
   "cell_type": "markdown",
   "metadata": {},
   "source": [
    "The strength of the electric field falls off by a power of $r^{-3}$. For a single point charge, this would be $r^{-2}$. Simple intuition for this difference is that the two electric fields of the dipole cancel each other a bit so the strength of the overall electric field is weaker and falls off more with distance.\n",
    "\n",
    "---"
   ]
  },
  {
   "cell_type": "markdown",
   "metadata": {},
   "source": [
    "**Note on coordinate system:** Since the dipole is cylindrically symmetric, if the point $P$ was not at $z=0$, we could always rotate our coordinate system so that the two charges and P were all in the $xy$ plane and get back to the situation shown above. \n",
    "\n",
    "---\n",
    "---"
   ]
  },
  {
   "cell_type": "markdown",
   "metadata": {},
   "source": [
    "### Problem 3: Electric Field of a Charged Rod\n",
    "![w2ps3](./images/w2ps3.svg)\n",
    "\n",
    "A rod of length $L$ is uniformly charged with a total charge $Q$. The electric field at point $P$ is expressed as\n",
    "$$\n",
    "\\vec{E} = \\int_\\text{rod} \\frac{kdq}{r^2_{dq,P}}\\hat{r}_{dq,P}\n",
    "$$\n",
    "where $\\hat{r}_{dq,P}$ is the unit vector directed from the element of charge $dq$ in the rod to point $P$, and $r_{dq,P}$ is the distance $dq$ to point $P$."
   ]
  },
  {
   "cell_type": "markdown",
   "metadata": {},
   "source": [
    "**(Part a)** Consider the coordinate system shown in the figure with $x=0$ coinciding with the left end of the rod, $x$ and $y$ are the components of point $P$, and $x_s$ is the position of the element of charge $dq$. Write an expression for $r_{dq,P}$, the distance between $dq$ and point $P$ in terms of $x$, $y$, and $x_s$"
   ]
  },
  {
   "cell_type": "markdown",
   "metadata": {},
   "source": [
    "The distance from $dq$ to $P$ is\n",
    "$$\n",
    "r_{dq,P} = \\sqrt{(x-x_s)^2+y^2}\n",
    "$$\n",
    "\n",
    "---"
   ]
  },
  {
   "cell_type": "markdown",
   "metadata": {},
   "source": [
    "**(Part b)** The angle $\\theta$ in the figure is the angle between $\\hat{r}_{dq,P}$ and the horizontal. Write an expression for $\\hat{r}_{dq,P}$, in terms of $\\theta$, $\\hat{i}$, and $\\hat{j}$."
   ]
  },
  {
   "cell_type": "markdown",
   "metadata": {},
   "source": [
    "Since the length of $\\hat{r}_{dq,P}$ is 1, the leading coefficient for the $x$ and $y$ coordinate should both be 1:\n",
    "$$\n",
    "\\hat{r}_{dq,P} = \\cos(\\theta)\\hat{i} + \\sin(\\theta)\\hat{j}\n",
    "$$\n",
    "\n",
    "---"
   ]
  },
  {
   "cell_type": "markdown",
   "metadata": {},
   "source": [
    "**(Part c)** Now, use the geometry shown to express the unit vector $\\hat{r}_{dq,P}$ in terms of $x$, $y$, $x_s$, $\\hat{i}$, and $\\hat{j}$."
   ]
  },
  {
   "cell_type": "markdown",
   "metadata": {},
   "source": [
    "The unit vector $\\hat{r}_{dq,P}$ in cartesian coordinates is\n",
    "$$\n",
    "\\hat{r}_{dq,P} = \\frac{(x-x_s)\\hat{i} + y\\hat{j}}{\\sqrt{(x-x_s)^2+y^2}}\n",
    "$$\n",
    "\n",
    "---"
   ]
  },
  {
   "cell_type": "markdown",
   "metadata": {},
   "source": [
    "**(Part d)** The electric field produced by the rod at point $P$ has two components and can be expressed as:\n",
    "$$\n",
    "\\vec{E} = \\int^L_0 f(x_s)\\text{ }dx_s\\text{ }\\hat{i} + \\int^L_0 g(x_s)\\text{ }dx_s\\text{ }\\hat{j}\n",
    "$$\n",
    "\n",
    "Use the results obtained in parts (a) and (c) in equation (1) to find the functions $f(x_s)$ and $g(x_s)$ needed to calculate $\\vec{E}$ at point $P$. Express the answer in terms of $Q$, $L$, $x$, $y$, $x_s$, and the Coulomb constant $k$."
   ]
  },
  {
   "cell_type": "markdown",
   "metadata": {},
   "source": [
    "$$\n",
    "\\begin{align*}\n",
    "    f(x_s) &= \\frac{kQ(x-x_s)}{L((x-x_s)^2+y^2)^{3/2}} \\\\\n",
    "    g(x_s) &= \\frac{kQy}{L((x-x_s)^2+y^2)^{3/2}}\n",
    "\\end{align*}\n",
    "$$\n",
    "\n",
    "---\n",
    "---"
   ]
  },
  {
   "cell_type": "markdown",
   "metadata": {},
   "source": [
    "### Problem 4: Two Charged Circular Arcs\n",
    "\n",
    "Two circular arcs of radius $R$ are uniformly charged with a positive charge per unit length $\\lambda$. The arcs lie on a plane as shown in the figure. Each arc subtends an angle $\\theta = \\pi/3 = 60^\\circ$.\n",
    "\n",
    "![w2ps4](./images/w2ps4.svg)\n",
    "\n",
    "What is the direction and magnitude of the electric field anywhere along the $z$ axis that passes through the center of the circular arcs, perpendicular to the plane of the figure?"
   ]
  },
  {
   "cell_type": "markdown",
   "metadata": {},
   "source": [
    "The vector from any point on the arc to the point $P$ is\n",
    "$$\n",
    "\\vec{r} = -R\\hat{r} + z\\hat{k}\n",
    "$$\n",
    "with a magnitude of \n",
    "$$\n",
    "|\\vec{r}| = \\sqrt{R^2 + z^2}\n",
    "$$\n",
    "\n",
    "The linear charge density is\n",
    "$$\n",
    "\\lambda = \\frac{dq}{dl}\n",
    "$$\n",
    "\n",
    "The total charge is given by\n",
    "$$\n",
    "\\begin{align*}\n",
    "    Q &= \\int_\\text{line} \\lambda\\text{ }dl\n",
    "\\end{align*}\n",
    "$$\n",
    "\n",
    "But a small segment on the arc is given by a small $d\\theta$ at distance $R$:\n",
    "$$\n",
    "dl = Rd\\theta\n",
    "$$\n",
    "so the total charge is\n",
    "$$\n",
    "\\begin{align*}\n",
    "    Q &= \\int^{\\pi/3}_0 \\lambda R\\text{ }d\\theta + \\int^{4\\pi/3}_\\pi \\lambda R\\text{ }d\\theta\n",
    "\\end{align*}\n",
    "$$\n",
    "\n",
    "Then the electric field is\n",
    "$$\n",
    "\\begin{align*}\n",
    "    \\vec{E} &= k_e\\int^{\\pi/3}_0 \\lambda R\\frac{-R\\hat{r} + z\\hat{k}}{(R^2+k^2)^{3/2}}\\text{ }d\\theta + k_e\\int^{4\\pi/3}_\\pi \\lambda R\\frac{-R\\hat{r} + z\\hat{k}}{(R^2+k^2)^{3/2}}\\text{ }d\\theta\n",
    "\\end{align*}\n",
    "$$ \n",
    "\n",
    "Due to symmetry, the $\\hat{r}$ terms cancel out and the $\\hat{z}$ terms are equal so we can rewrite this as\n",
    "$$\n",
    "\\begin{align*}\n",
    "    \\vec{E} &= 2k_e\\int^{\\pi/3}_0 \\lambda R\\frac{z\\hat{k}}{(R^2+k^2)^{3/2}}\\text{ }d\\theta \\\\\n",
    "    &= \\frac{2\\lambda Rz\\theta\\hat{k}}{4\\pi\\epsilon_0(R^2+k^2)^{3/2}}\\bigg|^{\\pi/3}_0 \\\\\n",
    "    &= \\frac{\\lambda Rz\\hat{k}}{6\\epsilon_0(R^2+k^2)^{3/2}}\n",
    "\\end{align*}\n",
    "$$ \n",
    "\n",
    "So the magnitude of the electric field is\n",
    "$$\n",
    "E(z) = \\frac{\\lambda Rz}{6\\epsilon_0(R^2+k^2)^{3/2}}\n",
    "$$ \n",
    "\n",
    "---\n",
    "---"
   ]
  },
  {
   "cell_type": "markdown",
   "metadata": {},
   "source": [
    "### Problem 5: Electric Field of a Uniform Charged Disk\n",
    "![w2ps5.1](./images/w2ps5.1.svg)\n",
    "\n",
    "A disk of radius $R$ is uniformly charged with total charge $Q>0$. Determine the direction and magnitude of the electric field at the point $P$ lying a distance $x>0$ from the center of the disk along the axis of symmetry of the disk.\n",
    "\n",
    "We will build up the electric field of the disk by integrating the contributions from the electric field due to a series of rings of radius $r$, thickness $dr$, and charge $dq$. Thus the radius of the ring $r$ becomes our integration variable.\n",
    "\n",
    "![w2ps5.2](./images/w2ps5.2.svg)\n",
    "\n",
    "The electric field of a ring of radius $r$ points along the $x$ axis and has the following magnitude:\n",
    "$$\n",
    "dE_x = \\frac{1}{4\\pi\\epsilon_0}\\frac{x}{(x^2+r^2)^{3/2}}\\text{ }dq\n",
    "$$"
   ]
  },
  {
   "cell_type": "markdown",
   "metadata": {},
   "source": [
    "**Question 1:** Determine an expression for $dq$ in terms of the integration variable $r$, the width of the ring $dr$, the total charge on the disk $Q$, and the disk radius $R$."
   ]
  },
  {
   "cell_type": "markdown",
   "metadata": {},
   "source": [
    "The ratio between charge to radius is\n",
    "$$\n",
    "\\begin{align*}\n",
    "\\frac{q}{\\pi r^2} &= \\frac{Q}{\\pi R^2} \\\\\n",
    "q &= \\frac{Qr^2}{R^2} \\\\\n",
    "dq &= \\frac{2Qr}{R^2}dr\n",
    "\\end{align*}\n",
    "$$\n",
    "\n",
    "---"
   ]
  },
  {
   "cell_type": "markdown",
   "metadata": {},
   "source": [
    "**Question 2:** Integrate your result to find an expression for the electric field of the disk. You may find the following integral formula useful:\n",
    "$$\n",
    "\\int^R_0 \\frac{rdr}{(x^2+r^2)^{3/2}} = -\\frac{1}{(x^2+r^2)^{1/2}}\\bigg|^{r=R}_{r=0} = -\\frac{1}{(x^2+R^2)^{1/2}} + \\frac{1}{x}\n",
    "$$"
   ]
  },
  {
   "cell_type": "markdown",
   "metadata": {},
   "source": [
    "The electric field is\n",
    "$$\n",
    "\\begin{align*}\n",
    "    \\vec{\\mathbf{E}}_\\text{disk} &= \\int^R_0 \\frac{1}{4\\pi\\epsilon_0}\\frac{x}{(x^2+r^2)^{3/2}}\\frac{2Qr}{R^2}\\hat{\\mathbf{i}}\\text{ }dr \\\\\n",
    "    &= \\int^R_0 \\frac{Qx}{2\\pi\\epsilon_0R^2}\\frac{r}{(x^2+r^2)^{3/2}}\\hat{\\mathbf{i}}\\text{ }dr \\\\\n",
    "    &= \\frac{Qx}{2\\pi\\epsilon_0R^2}\\int^R_0\\frac{r}{(x^2+r^2)^{3/2}}\\hat{\\mathbf{i}}\\text{ }dr \\\\\n",
    "    &= \\frac{Qx}{2\\pi\\epsilon_0R^2}\\bigg(-\\frac{1}{(x^2+R^2)^{1/2}} + \\frac{1}{x}\\bigg)\\hat{\\mathbf{i}}\n",
    "\\end{align*}\n",
    "$$\n",
    "\n",
    "---"
   ]
  },
  {
   "cell_type": "markdown",
   "metadata": {},
   "source": [
    "**Question 3:** What is the limit of the expression for the electric field of the disk for the case (i) $R\\to 0$ and for (ii) $R\\to \\infty$ such that $Q/(\\pi R^2)$ remains constant?\n",
    "\n",
    "Hint: For $R \\ll x$, use the power series expansion:\n",
    "$$\n",
    "\\frac{1}{(x^2+R^2)^{1/2}} = \\frac{1}{x\\big(1+(R/x)^2\\big)^{1/2}} \\simeq \\frac{1}{x}\\bigg(1-\\frac{1}{2}(R/x)^2 + ...\\bigg)\n",
    "$$"
   ]
  },
  {
   "cell_type": "markdown",
   "metadata": {},
   "source": [
    "For $R\\to 0$, we should expect the form to be the same as if the electric field is from a single source charge:\n",
    "$$\n",
    "\\begin{align*}\n",
    "    \\vec{\\mathbf{E}}_\\text{disk} &= \\lim_{R\\to 0}\\frac{Qx}{2\\pi\\epsilon_0R^2}\\bigg(-\\frac{1}{(x^2+R^2)^{1/2}} + \\frac{1}{x}\\bigg)\\hat{\\mathbf{i}} \\\\\n",
    "    &= \\lim_{R\\to 0}\\frac{Qx}{2\\pi\\epsilon_0R^2}\\bigg(-\\frac{1}{x} + \\frac{1}{2}R^2/x^3 + \\frac{1}{x}\\bigg)\\hat{\\mathbf{i}} \\\\\n",
    "    &= \\lim_{R\\to 0}\\frac{Qx}{2\\pi\\epsilon_0R^2}\\bigg(\\frac{1}{2}R^2/x^3\\bigg)\\hat{\\mathbf{i}} \\\\\n",
    "    &= \\lim_{R\\to 0}\\frac{Q}{4\\pi\\epsilon_0 x^2}\\hat{\\mathbf{i}} \\\\\n",
    "    &= \\frac{Q}{4\\pi\\epsilon_0 x^2}\\hat{\\mathbf{i}}\n",
    "\\end{align*}\n",
    "$$\n",
    "\n",
    "For $R\\to\\infty$, $\\frac{1}{(x^2+R^2)^{1/2}}$ approaches 0. Taking $Q/(\\pi R^2)$ to be constant, the electric field as $R\\to\\infty$ is\n",
    "$$\n",
    "\\begin{align*}\n",
    "    \\vec{\\mathbf{E}}_\\text{disk} &= \\lim_{R\\to \\infty}\\frac{Qx}{2\\pi\\epsilon_0R^2}\\bigg(\\frac{1}{x}\\bigg)\\hat{\\mathbf{i}} \\\\\n",
    "    &= \\frac{Q}{2\\pi\\epsilon_0R^2}\\hat{\\mathbf{i}}\n",
    "\\end{align*}\n",
    "$$\n",
    "\n",
    "---\n",
    "---"
   ]
  },
  {
   "cell_type": "markdown",
   "metadata": {},
   "source": []
  }
 ],
 "metadata": {
  "kernelspec": {
   "display_name": "base",
   "language": "python",
   "name": "python3"
  },
  "language_info": {
   "name": "python",
   "version": "3.11.5"
  }
 },
 "nbformat": 4,
 "nbformat_minor": 2
}
