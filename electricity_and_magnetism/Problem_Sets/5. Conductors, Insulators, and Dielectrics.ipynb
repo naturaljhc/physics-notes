{
 "cells": [
  {
   "cell_type": "markdown",
   "metadata": {},
   "source": [
    "# Week 5: Conductors, Insulators, and Dielectrics\n",
    "📅 Date: 30 July, 2025\n",
    "\n",
    "---\n",
    "---"
   ]
  },
  {
   "cell_type": "markdown",
   "metadata": {},
   "source": [
    "### Problem 1: Energy Stored in Spherical Capacitor\n",
    "\n",
    "Consider a conducting spherical shell of outer radius $R$ that has charge $Q$ distributed uniformly on its surface. We want to know the potential energy $U$ of this sphere of charge."
   ]
  },
  {
   "cell_type": "markdown",
   "metadata": {},
   "source": [
    "**Method 1**\n",
    "\n",
    "**(Part a)** What is the potential at the surface of this shell $V(R)$, assuming that $V(\\infty)= 0?"
   ]
  },
  {
   "cell_type": "markdown",
   "metadata": {},
   "source": [
    "The distance from the center of the sphere to any point on the surface of the shell is $R$ (constant). Then the potential at the surface is\n",
    "$$\n",
    "    \\begin{align*}\n",
    "        V(R) &= \\frac{k}{R}\\int dq_s \\\\\n",
    "        V(R) &= \\frac{kQ}{R}\n",
    "    \\end{align*}\n",
    "$$\n",
    "\n",
    "---"
   ]
  },
  {
   "cell_type": "markdown",
   "metadata": {},
   "source": [
    "**(Part b)** Find the capacitance of a conducting shell of outer radius $R$ and use that to find the total energy of the shell when it has charge $Q$."
   ]
  },
  {
   "cell_type": "markdown",
   "metadata": {},
   "source": [
    "The capacitance is\n",
    "$$\n",
    "\\begin{align*}\n",
    "    C &= \\frac{Q}{V} \\\\\n",
    "    C &= \\frac{R}{k}\n",
    "\\end{align*}\n",
    "$$\n",
    "\n",
    "Then the total energy of the shell is\n",
    "$$\n",
    "\\begin{align*}\n",
    "    U &= \\frac{1}{2}CV^2 \\\\\n",
    "    U &= \\frac{1}{2}\\bigg(\\frac{R}{k}\\bigg)\\bigg(\\frac{k^2Q^2}{R^2}\\bigg) \\\\\n",
    "    U &= \\frac{kQ^2}{2R}\n",
    "\\end{align*}\n",
    "$$\n",
    "\n",
    "---"
   ]
  },
  {
   "cell_type": "markdown",
   "metadata": {},
   "source": [
    "**Method 2**\n",
    "\n",
    "**(Part a)** Consider the process of charging the spherical shell of radius $R$ from a charge of zero up to a charge of $Q$. If during this charging process, the shell has charge $q$, how much work does an external agent need to do in moving an amount of charge $dq$ from infinity and adding it to the shell?"
   ]
  },
  {
   "cell_type": "markdown",
   "metadata": {},
   "source": [
    "Suppose the shell at some point has charge $q$. If we add a small charge $dq$ from infinity, the change in potential energy is\n",
    "$$\n",
    "\\begin{align*}\n",
    "    d(U(R) - U(\\infty)) &= dq(V(R) - V(\\infty)) \\\\\n",
    "    dU &= \\frac{kq}{R} dq\n",
    "\\end{align*}\n",
    "$$\n",
    "\n",
    "---"
   ]
  },
  {
   "cell_type": "markdown",
   "metadata": {},
   "source": [
    "**(Part b)** Determine the potential energy stored in the shell when the charge on the shell is $Q$."
   ]
  },
  {
   "cell_type": "markdown",
   "metadata": {},
   "source": [
    "Integrating the result from before, the potential energy stored at charge $Q$ is\n",
    "\n",
    "$$\n",
    "\\begin{align*}\n",
    "    U &= \\int^Q_0\\frac{kq}{R} dq \\\\\n",
    "    U &= \\frac{kQ^2}{2R}\n",
    "\\end{align*}\n",
    "$$\n",
    "\n",
    "---"
   ]
  },
  {
   "cell_type": "markdown",
   "metadata": {},
   "source": [
    "**(Part c)** An interstellar dust grain, roughly spherical with a radius $R = 3\\times 10^{-7}\\text{ m}$, has acquired a negative charge such that the potential difference $V(R) - V(\\infty) = -0.15\\text{ V}$"
   ]
  },
  {
   "cell_type": "markdown",
   "metadata": {},
   "source": [
    "(i) How many extra electrons has it picked up? Use $e = -1.6\\times 10^{-19}\\text{ C}$ for the charge of an electron and $k = 9.0\\times 10^{9}\\text{ N}\\cdot\\text{m}^2/\\text{C}^2$"
   ]
  },
  {
   "cell_type": "markdown",
   "metadata": {},
   "source": [
    "The total charge $Q$ is\n",
    "$$\n",
    "    Q = \\frac{RV}{k}\n",
    "$$\n",
    "\n",
    "The number of electrons would be $N_e = Q/e$:\n",
    "$$\n",
    "\\begin{align*}\n",
    "    N_e &= \\frac{RV}{ke} \\\\\n",
    "    N_e &\\approx 31\\text{ electrons}\n",
    "\\end{align*}\n",
    "$$\n",
    "\n",
    "---"
   ]
  },
  {
   "cell_type": "markdown",
   "metadata": {},
   "source": [
    "(ii) What is the magnitude of the electric field on its surface?"
   ]
  },
  {
   "cell_type": "markdown",
   "metadata": {},
   "source": [
    "The magnitude of the electric field on the surface is\n",
    "$$\n",
    "\\begin{align*}\n",
    "    E &= \\frac{kQ}{R^2} \\\\\n",
    "    E &= \\frac{|-\\Delta V|}{R} \\\\\n",
    "    E &= 5.0\\times 10^5\\text{ V/m}\n",
    "\\end{align*}\n",
    "$$\n",
    "\n",
    "---\n",
    "---"
   ]
  },
  {
   "cell_type": "markdown",
   "metadata": {},
   "source": [
    "### Problem 2: Charges on Conducting Plates\n",
    "\n",
    "Consider two very large conducting plates which contain different total charges $Q_1$ and $Q_2$ as shown. Note that this is different from a parallel-plate capacitor which would normally have equal magnitude but opposite charges $Q$ and $-Q$. Find the amount of charge on the inner and outer surfaces of the two plates. Neglect all edge effects.\n",
    "![w4ps2.png](./images/w5ps2.png)"
   ]
  },
  {
   "cell_type": "markdown",
   "metadata": {},
   "source": [
    "Consider a cylindrical Gaussian surface from the inside of the top plate to the inside of the bottom plate. Since both plates are conductors, the electric field is $0$ in both of them. The flux through the Gaussian surface would thus have to be $0$ as well and the enclosed charge must also be 0. Then by applying Gauss's Law:\n",
    "\n",
    "$$\n",
    "\\begin{align*}\n",
    "    0 &= \\sigma_{\\text{in}, 1} A + \\sigma_{\\text{in}, 2}A \\\\\n",
    "    \\sigma_{\\text{in}, 2} &= -\\sigma_{\\text{in}, 1}\n",
    "\\end{align*}\n",
    "$$\n",
    "\n",
    "Neglecting edge effects would then mean $Q_{\\text{in}, 2} = -Q_{\\text{in}, 1}$\n",
    "\n",
    "Since the electric field inside a conductor has to be $0$, the net electric field inside either conductor can be written as\n",
    "\n",
    "$$\n",
    "\\begin{align*}\n",
    "    \\vec{0} &= \\vec{\\mathbf{E}}_{\\text{out}, 1} + \\vec{\\mathbf{E}}_{\\text{out}, 2} +\\vec{\\mathbf{E}}_{\\text{in}, 1} + \\vec{\\mathbf{E}}_{\\text{in}, 2} \\\\\n",
    "    \\vec{0} &= \\vec{\\mathbf{E}}_{\\text{out}, 1} + \\vec{\\mathbf{E}}_{\\text{out}, 2} \\\\\n",
    "    \\vec{\\mathbf{E}}_{\\text{out}, 1} &= -\\vec{\\mathbf{E}}_{\\text{out}, 2}\n",
    "\\end{align*}\n",
    "$$\n",
    "\n",
    "For the point we are observing, $Q_{\\text{out}, 1}$ and $Q_{\\text{out}, 2}$ are on opposite sides. Then in order for $\\vec{\\mathbf{E}}_{\\text{out}, 1} = -\\vec{\\mathbf{E}}_{\\text{out}, 2}$, the outer charges must be equal in magnitude AND have the same sign.\n",
    "\n",
    "The total charge on each plate is\n",
    "\n",
    "$$\n",
    "\\begin{align*}\n",
    "    Q_1 &= Q_\\text{out, 1} + Q_\\text{in, 1} \\\\\n",
    "    Q_2 &= Q_\\text{in, 1} + Q_\\text{in, 2}\n",
    "\\end{align*}\n",
    "$$\n",
    "\n",
    "We can now reduce our system of equations to two equations and two unknown. The charges are\n",
    "$$\n",
    "\\begin{align*}\n",
    "    Q_\\text{out, 1} &= \\frac{Q_1 + Q_2}{2} \\\\\n",
    "    Q_\\text{out, 2} &= \\frac{Q_1 + Q_2}{2} \\\\\n",
    "    Q_\\text{in, 1} &= \\frac{Q_1 - Q_2}{2} \\\\\n",
    "    Q_\\text{in, 2} &= \\frac{Q_2 - Q_1}{2}\n",
    "\\end{align*}\n",
    "$$\n",
    "\n",
    "---\n",
    "---"
   ]
  },
  {
   "cell_type": "markdown",
   "metadata": {},
   "source": [
    "### Problem 3: Dielectrics and Capacitance\n",
    "\n",
    "Consider a capacitor made of two square conducting plates of side $l$. The distance between the two plates is $d$. Assume that $l\\gg d$ so that edge effects can be ignored. We insert a dielectric of dielectric constant $\\kappa > 1$ and width $l$ (into the page) a distance $x$ into the right side of the capacitor as shown in the diagram. We want to find the total capacitance and other properties of this arrangement.\n",
    "\n",
    "![w5ps3](./images/w5ps3.png)"
   ]
  },
  {
   "cell_type": "markdown",
   "metadata": {},
   "source": [
    "**(Part a)** First, assume that the top plate has total charge $+Q$ and the bottom plate has total charge $-Q$, with the magnitude of the area charge density being $\\sigma_1$, on the left where there is no dielectric and $\\sigma_2$ on the right."
   ]
  },
  {
   "cell_type": "markdown",
   "metadata": {},
   "source": [
    "The total charge, $Q$, is the sum of the charges on the left and the right side:\n",
    "\n",
    "$$\n",
    "    Q = \\sigma_1(l-x)(l) + \\sigma_2xl\n",
    "$$\n",
    "\n",
    "---"
   ]
  },
  {
   "cell_type": "markdown",
   "metadata": {},
   "source": [
    "**(Part b i)** In terms of the charge densities, what is the magnitude of the potential difference between the two plates in the region on the left *without* dielectric?"
   ]
  },
  {
   "cell_type": "markdown",
   "metadata": {},
   "source": [
    "Using Gauss's Law, the electric field on the left is\n",
    "$$\n",
    "    E = \\frac{\\sigma_1}{\\epsilon_0}\n",
    "$$\n",
    "\n",
    "Then the potential difference on the left is\n",
    "$$\n",
    "    |\\Delta V_\\text{left}| = \\frac{\\sigma_1d}{\\epsilon_0}\n",
    "$$\n",
    "\n",
    "---"
   ]
  },
  {
   "cell_type": "markdown",
   "metadata": {},
   "source": [
    "**(Part b ii)** n terms of the charge densities, what is the magnitude of the potential difference between the two plates in the region on the left *with* dielectric?"
   ]
  },
  {
   "cell_type": "markdown",
   "metadata": {},
   "source": [
    "The potential difference on the right side is proportional to the potential difference on the left side by a factor of $1/\\kappa$:\n",
    "$$\n",
    "    |\\Delta V_\\text{right}| = \\frac{\\sigma_2d}{\\kappa\\epsilon_0}\n",
    "$$\n",
    "\n",
    "---"
   ]
  },
  {
   "cell_type": "markdown",
   "metadata": {},
   "source": [
    "However, since the top and bottom plates are conductors, every point in each plate must be at the same potential and so the potential difference between the top and bottom plates must be the same on the left and right.\n",
    "\n",
    "**(Part c)** Use this information and the answers to the questions above to find $\\sigma_1$ and $\\sigma_2$."
   ]
  },
  {
   "cell_type": "markdown",
   "metadata": {},
   "source": [
    "**(Part d)** Now, find the capacitance."
   ]
  },
  {
   "cell_type": "markdown",
   "metadata": {},
   "source": []
  }
 ],
 "metadata": {
  "language_info": {
   "name": "python"
  }
 },
 "nbformat": 4,
 "nbformat_minor": 2
}
