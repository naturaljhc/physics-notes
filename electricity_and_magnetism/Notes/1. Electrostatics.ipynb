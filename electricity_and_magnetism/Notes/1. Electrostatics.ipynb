{
 "cells": [
  {
   "cell_type": "markdown",
   "metadata": {},
   "source": [
    "# Week 1: Electrostatics\n",
    "📅 Date: 9 July, 2025\n",
    "\n",
    "- [1. Charge and Electric Forces](#1-charge-and-electric-forces)\n",
    "    - [1.1 What is Charge](#11-what-is-charge)\n",
    "    - [1.2 Electric Force](#12-electric-force)\n",
    "    - [1.3 Rewrite the Unit Vector in Coulumb's Law](#13-rewrite-the-unit-vector-in-coulumbs-law)\n",
    "    - [1.4 Total Force on a Charged Object](#14-total-force-on-a-charged-object)\n",
    "    - [1.5 Charges on a Triangle](#15-charges-on-a-triangle)\n",
    "- [2. Electric Fields](#2-electric-fields)\n",
    "    - [2.1 Vector Fields](#21-vector-fields)\n",
    "    - [2.2 Kinds of Vector Fields](#22-kinds-of-vector-fields)\n",
    "    - [2.3 Electric Field of a Positive Point Charge](#23-electric-field-of-a-positive-point-charge)\n",
    "    - [2.4 Superposition](#24-superposition)\n",
    "    - [2.5 Total Electric Field Due to 2 Charges](#25-total-electric-field-due-to-2-charges)\n",
    "    - [2.6 Electric Field Lines](#26-electric-field-lines)\n",
    "---"
   ]
  },
  {
   "cell_type": "markdown",
   "metadata": {},
   "source": [
    "## 1. Charge and Electric Forces\n",
    "\n",
    "---"
   ]
  },
  {
   "cell_type": "markdown",
   "metadata": {},
   "source": [
    "### 1.1 What is Charge\n",
    "* Unit of charge is Coulumb\n",
    "* Charge of single electron:\n",
    "$$ 1\\text{e} = 1.6\\times10^{-19}\\text{C} $$\n",
    "\n",
    "* Charge is quantized and conserved\n",
    "1. Quantized - charge of any object is an integer multiple of e (made up of electrons and protons)\n",
    "2. Conserved - Can move charge around, cannot create net charge out of nothing\n",
    "\n",
    "---\n",
    "Electric charge is conserved <br>\n",
    "There are two kinds of charge: positive and negative <br>\n",
    "Electric charge can be quantified <br>\n",
    "Total sum of the negative and positive charge in the Universe does not change <br>\n",
    "All charges that we can observe directly are integer multiple of some smallest possible amount of charge\n",
    "\n",
    "---"
   ]
  },
  {
   "cell_type": "markdown",
   "metadata": {},
   "source": [
    "### 1.2 Electric Force\n",
    "* If an object has charge $q_1$ and another with charge $q_2$, the force experienced by object 2 caused from object 1 is given by Coulumb's Law\n",
    "\n",
    "$$ \\vec{F}_{1,2} = k\\frac{q_1q_2\\hat{r}_{1,2}}{r^2} $$\n",
    "\n",
    "where $r$ is the distance between the two objects, $\\hat{r}_{1,2}$ is the unit vector in the direction pointed from 1 to 2, and $k$ is Coulumb's constant.\n",
    "\n",
    "---\n",
    "Coulumb's constant in SI units is approximately\n",
    "$$ k \\approx 9\\times10^9 \\frac{\\text{N}\\cdot\\text{m}^2}{\\text{C}^2} $$\n",
    "\n",
    "---"
   ]
  },
  {
   "cell_type": "markdown",
   "metadata": {},
   "source": [
    "### 1.3 Rewrite the Unit Vector in Coulumb's Law\n",
    "Consider the two objects of charges $q_1$ and $q_2$. The vector $\\vec{r}_{1,2}$ is the position of object 2 relative to object 1. Then the unit vector can be expressed as\n",
    "$$ \\hat{r}_{1,2} = \\frac{\\vec{r}_{1,2}}{|\\vec{r}_{1,2}|} $$\n",
    "and the electrostatic force exerted by object 1 on 2 can be expressed as\n",
    "$$ \\vec{F}_{1,2} = kq_1q_2\\frac{\\vec{r}_{1,2}}{|\\vec{r}_{1,2}|^3} $$\n",
    "\n",
    "---"
   ]
  },
  {
   "cell_type": "markdown",
   "metadata": {},
   "source": [
    "### 1.4 Total Force on a Charged Object\n",
    "Coulumb's law applies to any pair of point charges. When more than two charges are present, the total force on any one charge is the vector sum of the forcex exerted on it by other charges.\n",
    "\n",
    "---"
   ]
  },
  {
   "cell_type": "markdown",
   "metadata": {},
   "source": [
    "### 1.5 Charges on a Triangle\n",
    "![1.5](1.5.svg)\n",
    "Three point like objects of charges $q_1=-2q$, $q_2=+q$, and $q_3=-q$ (where $q$ is positive) are glued to the vertices of an equilateral triangle of side $a$ as shown. Consider the coordinate system indicated in the figure.\n",
    "\n",
    "Calculate $\\vec{F}_3$, the force exerted by objects 1 and 2 on object 3. Express your answer in terms of $k$, $q$, $a$, $\\hat{i}$, and $\\hat{j}$.\n",
    "\n",
    "---\n",
    "Let object 1 be at the origin. The interior angles of an equilateral triangle are all $60^\\circ = \\frac{\\pi}{3}$. The vector from object 1 to object 3 is\n",
    "$$ \\vec{r}_{1,3} = \\frac{\\sqrt{3}}{2}a\\hat{i} + \\frac{1}{2}a\\hat{j} $$\n",
    "The vector from object 2 to object 3 is\n",
    "$$ \\vec{r}_{2,3} = \\frac{\\sqrt{3}}{2}a\\hat{i} - \\frac{1}{2}a\\hat{j} $$\n",
    "Then the forces are\n",
    "$$ \\vec{F}_{1,3} = \\frac{kq^2 (\\sqrt{3}\\hat{i} + \\hat{j})}{a^2} $$\n",
    "and\n",
    "$$ \\vec{F}_{2,3} = -\\frac{kq^2 (\\frac{\\sqrt{3}}{2}\\hat{i} - \\frac{1}{2}\\hat{j})}{a^2} $$\n",
    "respectively.\n",
    "\n",
    "Thus, the force exerted on object 3 is\n",
    "$$ \\vec{F}_3 = \\frac{kq^2 (\\sqrt{3}\\hat{i} + \\hat{j})}{2a^2}$$\n",
    "\n",
    "---\n",
    "---"
   ]
  },
  {
   "cell_type": "markdown",
   "metadata": {},
   "source": [
    "## 2. Electric Fields\n",
    "\n",
    "---"
   ]
  },
  {
   "cell_type": "markdown",
   "metadata": {},
   "source": [
    "### 2.1 Vector Fields\n",
    "- For a given space, a point $p$ will have a vector $\\vec{v}$ indicating direction and magnitude at that point\n",
    "- A vector field can be expressed as\n",
    "$$ \\vec{v}(x,y,z) = v_x(x,y,z)\\hat{i} + v_y(x,y,z)\\hat{j} + v_z(x,y,z)\\hat{k} $$\n",
    "\n",
    "---"
   ]
  },
  {
   "cell_type": "markdown",
   "metadata": {},
   "source": [
    "### 2.2 Kinds of Vector Fields\n",
    "- Uniform vector fields - all points in space have the same direction and magnitude, for example, the vectors could all point in the positive $x$ direction:\n",
    "$$ \\vec{v}(x,y,z) = v\\hat{i} $$\n",
    "- There are many other types of vector fields including radial, rotational, conservative, gradient, etc.\n",
    "\n",
    "---"
   ]
  },
  {
   "cell_type": "markdown",
   "metadata": {},
   "source": [
    "### 2.3 Electric Field of a Positive Point Charge\n",
    "- Any source of charge creates an electric field around it\n",
    "- For some point $p$ in the vector field, suppose there is some test charge, $q_t$. The electric field at point $p$ caused by the source charge, $q_s$ is given by\n",
    "$$\n",
    "\\begin{align*}\n",
    "\\vec{E}_s(p) &= \\frac{\\vec{F}_{s,t}(p)}{q_t} \\\\\n",
    "             &= \\frac{kq_s \\hat{r}_{s,t}}{r^2_{s,t}}\n",
    "\\end{align*}\n",
    "$$\n",
    "- The force exerted on a the test charge can be written as\n",
    "$$\n",
    "\\vec{F}_{s,t}(p) = q_t\\vec{E}_s(p)             \n",
    "$$\n",
    "\n",
    "---\n"
   ]
  },
  {
   "cell_type": "markdown",
   "metadata": {},
   "source": [
    "### 2.4 Superposition\n",
    "- For $N$ overlapping electric fields, the electric field at the point $p$ is the sum of the electric fields from all sources\n",
    "\n",
    "---"
   ]
  },
  {
   "cell_type": "markdown",
   "metadata": {},
   "source": [
    "### 2.5 Total Electric Field Due to 2 Charges\n",
    "![2.5](2.5.svg)\n",
    "\n",
    "Two objects of charges $+q$ and $-q$ are separated by a distance $a$. Calculate the electric field at point $P$ located at a distance $d$ from the center point betweent the two charges. Express your answer in terms of $k$, $q$, $a$, $d$, $\\hat{i}$, and $\\hat{j}$.\n",
    "\n",
    "---\n",
    "The distance between the point $P$ and each of the source charges is\n",
    "$$ r = \\sqrt{d^2 + a^2/4} $$\n",
    "The vector pointing from the positive charge to the point is\n",
    "$$ r_+ = d\\hat{i} - \\frac{a}{2}\\hat{j} $$\n",
    "and the vector pointing from the negative charge to the point is\n",
    "$$ r_- = d\\hat{i} + \\frac{a}{2}\\hat{j} $$\n",
    "Then the electric fields are\n",
    "$$ E_+(P) = kq\\frac{d\\hat{i} - \\frac{a}{2}\\hat{j}}{(d^2+a^2/4)^{3/2}} $$\n",
    "and\n",
    "$$ E_-(P) = -kq\\frac{d\\hat{i} + \\frac{a}{2}\\hat{j}}{(d^2+a^2/4)^{3/2}} $$\n",
    "respectively. Thus, the sum of these two electric fields at point $P$ is\n",
    "$$ = -\\frac{kqa\\hat{j}}{(d^2+a^2/4)^{3/2}} $$\n",
    "\n",
    "---"
   ]
  },
  {
   "cell_type": "markdown",
   "metadata": {},
   "source": [
    "### 2.6 Electric Field Lines"
   ]
  },
  {
   "cell_type": "markdown",
   "metadata": {},
   "source": [
    "- Field lines are essentially the curve created by the connection of vectors\n",
    "- Field lines never cross\n",
    "- Positive charges are sources and negative charges are sinks"
   ]
  },
  {
   "cell_type": "markdown",
   "metadata": {},
   "source": []
  }
 ],
 "metadata": {
  "language_info": {
   "name": "python"
  }
 },
 "nbformat": 4,
 "nbformat_minor": 2
}
