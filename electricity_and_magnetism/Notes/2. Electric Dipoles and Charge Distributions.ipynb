{
 "cells": [
  {
   "cell_type": "markdown",
   "metadata": {},
   "source": [
    "# Week 2: Electric Dipoles and Charge Distributions\n",
    "📅 Date: 10 July, 2025\n",
    "\n",
    "- [3. Electric Dipoles](#3-electric-dipoles)\n",
    "    - [3.1. Introduction to Electric Dipoles](#31-introduction-to-electric-dipoles)\n",
    "    - [3.2. Electric Dipole Moment of 2 Charges](#32-electric-dipole-moment-of-2-charges)\n",
    "    - [3.3. Definition of the Dipole Moment](#33-definition-of-the-dipole-moment)\n",
    "    - [3.4. Dipole Moment of 3 Charges](#34-dipole-moment-of-3-charges)\n",
    "    - [3.5. Dipole Moment is Independent of Origin](#35-dipole-moment-is-independent-of-origin)\n",
    "    - [3.6. Force and Torque on a Dipole in a Uniform Field](#36-force-and-torque-on-a-dipole-in-a-uniform-field)\n",
    "    - [3.7. Dipole in a Non-uniform Field](#37-dipole-in-a-non-uniform-field)\n",
    "- [4. Continuous Charge Distributions](#4-continuous-charge-distributions)\n",
    "    - [4.1. Electric Field of a Continuous Charge Source](#41-electric-field-of-a-continuous-charge-source)\n",
    "    - [4.2. Electric Field from a Rod on the Symmetry Axis Using Angles and Symmetry](#42-electric-field-from-a-rod-on-the-symmetry-axis-using-angles-and-symmetry)\n",
    "    - [4.3. Continuous Charge Distribution Electric Field Calculation with Source to Point Vector](#43-continuous-charge-distribution-electric-field-calculation-with-source-to-point-vector)\n",
    "    - [4.4. Electric Field from a Rod on the Symmetry Axis Using the Source to Point Vector](#44-electric-field-from-a-rod-on-the-symmetry-axis-using-the-source-to-point-vector)\n",
    "    - [4.5. Electric Field of a Uniform Ring](#45-electric-field-of-a-uniform-ring)\n",
    "---"
   ]
  },
  {
   "cell_type": "markdown",
   "metadata": {},
   "source": [
    "## 3. Electric Dipoles\n",
    "\n",
    "---"
   ]
  },
  {
   "cell_type": "markdown",
   "metadata": {},
   "source": [
    "### 3.1. Introduction to Electric Dipoles\n",
    "- Dipole - Pair of opposite charges\n",
    "- Electric Fields make dipoles turn (torque) until dipoles are aligned and then eventually attract till they line up\n",
    "\n",
    "---"
   ]
  },
  {
   "cell_type": "markdown",
   "metadata": {},
   "source": [
    "### 3.2. Electric Dipole Moment of 2 Charges\n",
    "- The Electric Dipole Moment of 2 Charges is defined as\n",
    "$$ \\vec{P} = q_1\\vec{r}_1 + q_2\\vec{r}_2 $$\n",
    "- Points from the negatively charged object to the positive\n",
    "- Independent of where the charges are with respect to the origin of the coordinate system\n",
    "- Magnitude is given by magnitude of the charge times the distance between them\n",
    "\n",
    "---"
   ]
  },
  {
   "cell_type": "markdown",
   "metadata": {},
   "source": [
    "### 3.3. Definition of the Dipole Moment\n",
    "- Consider a neutral distribution of charges, i.e.\n",
    "$$ \\sum^N_{j=1} q_j = 0 $$\n",
    "- The dipole moment is given by\n",
    "$$ \\vec{P} = \\sum^N_{j=1} q_j\\vec{r}_j $$\n",
    "- Note that the dipole moment is independent of the origin location\n",
    "\n",
    "---"
   ]
  },
  {
   "cell_type": "markdown",
   "metadata": {},
   "source": [
    "### 3.4. Dipole Moment of 3 Charges\n",
    "- Recall that the dipole moment of a pair goes from negative to positive\n",
    "- Can think of the dipole moment of a complicated distribution of the sum of moments of the oppositely paired chargeds - larger charges act like multiple smaller ones grouped together\n",
    "\n",
    "---"
   ]
  },
  {
   "cell_type": "markdown",
   "metadata": {},
   "source": [
    "### 3.5. Dipole Moment is Independent of Origin\n",
    "- Since the dipole moment is independent of the origin, it is helpful to place the origin at a location that makes calculations easier\n",
    "\n",
    "---"
   ]
  },
  {
   "cell_type": "markdown",
   "metadata": {},
   "source": [
    "### 3.6. Force and Torque on a Dipole in a Uniform Field\n",
    "- Consider a dipole of two charges in a uniform field - the net force on the dipole is given by\n",
    "$$\n",
    "\\vec{F}_\\text{total} = q\\vec{E}_\\text{ext} - q\\vec{E}_\\text{ext} = 0\n",
    "$$\n",
    "- So by Newton's Second Law, the dipole is moving together at a constant velocity\n",
    "- The torque is given by\n",
    "$$\n",
    "\\begin{align*}\n",
    "    \\vec{\\tau} &= \\sum^N_{j=1}\\vec{r}_j\\times \\vec{F}_j \\\\\n",
    "    &= \\sum^N_{j=1}\\vec{r}_j\\times q_j\\vec{E}_\\text{ext} \\\\\n",
    "    &= \\bigg(\\sum^N_{j=1}q_j\\vec{r}_j\\bigg)\\times\\vec{E}_\\text{ext} \\\\\n",
    "    &= \\vec{P}\\times\\vec{E}_\\text{ext}\n",
    "\\end{align*}\n",
    "$$\n",
    "- So the torque is only ever 0 if the dipole is aligned with the external field (may still have angular momentum)\n",
    "\n",
    "\n",
    "---"
   ]
  },
  {
   "cell_type": "markdown",
   "metadata": {},
   "source": [
    "### 3.7. Dipole in a Non-uniform Field\n",
    "- In a non-uniform field, the net force due to the external electric field on the dipole is not 0\n",
    "\n",
    "---\n",
    "---"
   ]
  },
  {
   "cell_type": "markdown",
   "metadata": {},
   "source": [
    "## 4. Continuous Charge Distributions\n",
    "\n",
    "---"
   ]
  },
  {
   "cell_type": "markdown",
   "metadata": {},
   "source": [
    "### 4.1. Electric Field of a Continuous Charge Source\n",
    "- For some distribution of charges, what is the electric field at a some point, $P$?\n",
    "- For a 3 dimensional distribution of charges, the total charge is\n",
    "$$\n",
    "\\int\\int\\int dq\n",
    "$$\n",
    "- For every small charge, $\\Delta q_i$, the electric field at point $P$ is\n",
    "$$\n",
    "\\vec{E}_i = \\frac{k\\Delta q_i \\hat{r}_i}{r_i^2}\n",
    "$$\n",
    "- Then for infinitesimally small $\\Delta q_i$, the net electric field is\n",
    "$$\n",
    "\\begin{align*}\n",
    "    \\vec{E}(P) &= \\int\\int\\int d\\vec{E} \\\\\n",
    "    &= \\int\\int\\int \\frac{k\\hat{r}}{r^2}dq\n",
    "\\end{align*}\n",
    "$$\n",
    "\n",
    "---"
   ]
  },
  {
   "cell_type": "markdown",
   "metadata": {},
   "source": [
    "### 4.2. Electric Field from a Rod on the Symmetry Axis Using Angles and Symmetry\n",
    "- For a simple electric field from a rod, the integral becomes one dimensional:\n",
    "$$\n",
    "\\vec{E}(P) = \\int\\frac{k\\hat{r}}{r^2}dq\n",
    "$$\n",
    "- If a rod has length $L$ with a uniform charge, $Q$, the charge with lenth $dx$ is\n",
    "$$\n",
    "dq = \\frac{Q}{L}dx\n",
    "$$\n",
    "- The integral would then be\n",
    "$$\n",
    "\\begin{align*}\n",
    "    \\vec{E}(P) &= \\int\\frac{k\\hat{r}}{r^2}\\frac{Q}{L}dx \\\\\n",
    "    \\vec{E}(P) &= \\int\\frac{k\\hat{r}}{x^2+y^2}\\frac{Q}{L}dx\n",
    "\\end{align*}\n",
    "$$\n",
    "\n",
    "---"
   ]
  },
  {
   "cell_type": "markdown",
   "metadata": {},
   "source": [
    "#### Charge Density\n",
    "\n",
    "**Volume Charge Density**\n",
    "Consider a charged object of total charge $Q$ and volume $V$. Consider an element of volume $dV$ charged with an element of charge $dq$. The volume charge density $\\rho$ is defined as:\n",
    "$$\n",
    "\\rho=\\frac{d\\rho}{dV} \n",
    "$$\n",
    "where the dimension of $\\rho$ is $(\\text{C}\\cdot\\text{m}^{-3})$. The total charge on the object is obtained as the integral over the volume of the object:\n",
    "$$\n",
    "Q=\\int_V\\rho\\text{ }dV\n",
    "$$\n",
    "\n",
    "**Surface Charge Density**\n",
    "Consider a charged object of total charge $Q$ distributed on its surface of area $A$. Consider an element of surface $dA$ charged with an element of charge $dq$. The surface charge density $\\sigma$ is defined as:\n",
    "$$\n",
    "\\sigma=\\frac{dq}{dA} \n",
    "$$\n",
    "where the dimension of $\\sigma$ is $(\\text{C}\\cdot\\text{m}^{-2})$. The total charge on the object is obtained as the integral over the surface of the object:\n",
    "$$\n",
    "Q=\\int_A \\sigma\\text{ }dA \n",
    "$$\n",
    "\n",
    "**Linear Charge Density**\n",
    "Consider a total charge $Q$ distributed along a line. If an element of line $dl$ is charged with an element of charge $dq$, the linear charge density $\\lambda$ is defined as:\n",
    "$$\n",
    "\\lambda=\\frac{dq}{dl} \n",
    "$$\n",
    "where the dimension of $\\lambda$ is $(\\text{C}\\cdot\\text{m}^{-2})$. The total charge on the object is obtained as the integral over the total length of the object:\n",
    "$$\n",
    "Q=\\int_\\text{line}\\lambda\\text{ }dl\n",
    "$$"
   ]
  },
  {
   "cell_type": "markdown",
   "metadata": {},
   "source": [
    "### 4.3. Continuous Charge Distribution Electric Field Calculation with Source to Point Vector\n",
    "- For any charge in the source, it will have a different vector $\\vec{r}_{s,P}$. Consider an arbitrary origin - the vector to the point is $\\vec{r}_P$ and the vector to the source charge is $\\vec{r}_s$. Then the vector from the source to point $P$ is\n",
    "$$\n",
    "\\vec{r}_{s,P} = \\vec{r}_P - \\vec{r}_s\n",
    "$$\n",
    "- Coulumb's law can then be rewritten as\n",
    "$$\n",
    "\\vec{E}_s(P) = \\int \\frac{k(\\vec{r}_P - \\vec{r}_s)}{|\\vec{r}_P - \\vec{r}_s|^3}dq_s\n",
    "$$\n",
    "---"
   ]
  },
  {
   "cell_type": "markdown",
   "metadata": {},
   "source": [
    "### 4.4. Electric Field from a Rod on the Symmetry Axis Using the Source to Point Vector\n",
    "- Suppose we have a rod of length $L$ with charge $Q$ and a point along the the vertical axis, halfway along the rod. From before, we have that the charge of small segment $dx$ is\n",
    "$$\n",
    "dq = \\frac{Q}{L}dx\n",
    "$$\n",
    "- If the origin is along the rod and the vertical axis, we have the vectors\n",
    "$$\n",
    "\\begin{align*}\n",
    "    \\vec{r}_P &= y\\hat{j} \\\\\n",
    "    \\vec{r}_s &= x\\hat{i} \\\\\n",
    "    \\vec{r}_{s,P} &= -x\\hat{i} + y\\hat{j}\n",
    "\\end{align*}\n",
    "$$\n",
    "- The electric field is then\n",
    "$$\n",
    "\\begin{align*}\n",
    "    \\vec{E}(P) &= \\frac{kQ}{L}\\int^{L/2}_{-L/2} \\frac{-x\\hat{i} + y\\hat{j}}{(x^2+y^2)^{3/2}} dx \\\\\n",
    "    &= \\frac{kQ}{L}\\int^{L/2}_{-L/2} \\frac{y\\hat{j}}{(x^2+y^2)^{3/2}} dx - \\frac{kQ}{L}\\int^{L/2}_{-L/2} \\frac{x\\hat{i}}{(x^2+y^2)^{3/2}} dx\n",
    "\\end{align*}\n",
    "$$\n",
    "\n",
    "---"
   ]
  },
  {
   "cell_type": "markdown",
   "metadata": {},
   "source": [
    "### 4.5. Electric Field of a Uniform Ring\n",
    "- Suppose we have a uniform ring with charge $Q$ and a point $P$ along the vertical axis located at the center of the ring. The radius is a constant $R$ along the ring, so in polar coordinates, the vectors are\n",
    "$$\n",
    "\\begin{align*}\n",
    "    \\vec{r}_P &= z\\hat{k} \\\\\n",
    "    \\vec{r}_s &= R\\hat{r} \\\\\n",
    "    \\vec{r}_{s,P} &= z\\hat{k} - R\\hat{r}\n",
    "\\end{align*}\n",
    "$$\n",
    "- The charge density of the ring is\n",
    "$$\n",
    "\\lambda = \\frac{Q}{2\\pi R}\n",
    "$$\n",
    "- So the charge of a small section of the ring is\n",
    "$$\n",
    "dq = \\lambda Rd\\theta\n",
    "$$\n",
    "- Then the electric field is\n",
    "$$\n",
    "\\begin{align*}\n",
    "    \\vec{E}_s(P) &= \\int^{2\\pi}_0 \\frac{k\\lambda R(z\\hat{k} - R\\hat{r})}{(z^2+R^2)^{3/2}}d\\theta \\\\\n",
    "    &= \\int^{2\\pi}_0 \\frac{k\\lambda Rz\\hat{k}}{(z^2+R^2)^{3/2}}d\\theta - \\int^{2\\pi}_0 \\frac{k\\lambda R^2\\hat{r}}{(z^2+R^2)^{3/2}}d\\theta\n",
    "\\end{align*}\n",
    "$$\n",
    "- Second term is 0 by symmetry - or change back to cartesian coordinates and integrate. The end result is\n",
    "$$\n",
    "    \\vec{E}_s(P) = \\frac{2\\pi k\\lambda Rz\\hat{k}}{(z^2+R^2)^{3/2}}\n",
    "$$\n",
    "\n",
    "---"
   ]
  }
 ],
 "metadata": {
  "language_info": {
   "name": "python"
  }
 },
 "nbformat": 4,
 "nbformat_minor": 2
}
