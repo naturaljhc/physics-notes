{
 "cells": [
  {
   "cell_type": "markdown",
   "id": "9d12d6dd",
   "metadata": {},
   "source": [
    "# Week 4: Electric Potential\n",
    "📅 Date: 13 July, 2025\n",
    "\n",
    "- [7. Electric Potential Difference](#7-electric-potential-difference)\n",
    "    - [7.1. Electric Potential Difference](#71-electric-potential-difference)\n",
    "    - [7.2. Potential Difference of Two Parallel Plates](#72-potential-difference-of-two-parallel-plates)\n",
    "    - [7.3. Potential Difference of Two Spherical Shells](#73-potential-difference-of-two-spherical-shells)\n",
    "    - [7.4. Potential Difference of Two Concentric Cylinders](#74-potential-difference-of-two-concentric-cylinders)\n",
    "- [8. Work and Potential Energy](#8-work-and-potential-energy)\n",
    "    - [8.1. Potential and Potential Energy](#81-potential-and-potential-energy)\n",
    "    - [8.2. Work for a Moving Point Charge](#82-work-for-a-moving-point-charge)\n",
    "    - [8.3. Sign of Work](#83-sign-of-work)\n",
    "    - [8.4. Potential for a Point Charge](#84-potential-for-a-point-charge)\n",
    "    - [8.5. Breakdown of Air](#85-breakdown-of-air)\n",
    "- [9. Electric Potential from Continuous Sources and Configuration Energy](#9-electric-potential-from-continuous-sources-and-configuration-energy)\n",
    "    - [9.1. Zero Point of the Potential Function](#91-zero-point-of-the-potential-function)\n",
    "    - [9.2. Superposition of Potential](#92-superposition-of-potential)\n",
    "    - [9.3. Potential for an Arbitrary Charge Source](#93-potential-for-an-arbitrary-charge-source)\n",
    "    - [9.4. Potential Along the Axis of a Uniformly Charged Ring](#94-potential-along-the-axis-of-a-uniformly-charged-ring)\n",
    "    - [9.5. Potential Near a Uniformly Charged Rod](#95-potential-near-a-uniformly-charged-rod)\n",
    "    - [9.6. Configuration Energy](#96-configuration-energy)\n",
    "- [10. Finding Electric Field from Potential](#10-finding-electric-field-from-potential)\n",
    "    - [10.1. Electric Field is the Negative Gradient of Potential](#101-electric-field-is-the-negative-gradient-of-potential)\n",
    "    - [10.2. Calculate Electric Field from the Potential Along the Axis of a Charged Ring](#102-calculate-electric-field-from-the-potential-along-the-axis-of-a-charged-ring)\n",
    "    - [10.3. Calculate the Electric Field from the Potential of Three Point Charges](#103-calculate-the-electric-field-from-the-potential-of-three-point-charges)\n",
    "    - [10.4. Equipotentials](#104-equipotentials)\n",
    "\n",
    "---\n",
    "---"
   ]
  },
  {
   "cell_type": "markdown",
   "id": "6a7c5a2d",
   "metadata": {},
   "source": [
    "## 7. Electric Potential Difference\n",
    "\n",
    "---"
   ]
  },
  {
   "cell_type": "markdown",
   "id": "615701d3",
   "metadata": {},
   "source": [
    "### 7.1. Electric Potential Difference\n",
    "- The Electric Potential Difference from point $A$ to point $B$ is\n",
    "$$\n",
    "\\begin{align*}\n",
    "    V(B) - V(A) &= -\\int^B_A \\frac{\\vec{\\mathbf{F}}_{s,t}}{q_t} \\cdot d\\vec{\\mathbf{s}} \\\\\n",
    "    V(B) - V(A) &= -\\int^B_A \\vec{\\mathbf{E}}_{s,t} \\cdot d\\vec{\\mathbf{s}}\n",
    "\\end{align*}\n",
    "$$\n",
    "\n",
    "---"
   ]
  },
  {
   "cell_type": "markdown",
   "id": "d3e2157c",
   "metadata": {},
   "source": [
    "### 7.2. Potential Difference of Two Parallel Plates\n",
    "- Consider two plates located at $z=d/2$ (with surface charge density $+\\sigma$) and $z=-d/2$ (with surface charge density $-\\sigma$).\n",
    "- The regions on the outside have a net 0 electric field.\n",
    "- Consider a particle moving from $-d/2$ to $d/2$; the electric field in this path is $E_z = -\\sigma/\\epsilon_0$\n",
    "$$\n",
    "\\begin{align*}\n",
    "    V(d/2)-V(-d/2) &= -\\int^{d/2}_{-d/2} -\\frac{\\sigma}{\\epsilon_0} dz \\\\\n",
    "    &= \\int^{d/2}_{-d/2} \\frac{\\sigma}{\\epsilon_0} dz \\\\\n",
    "    &= \\bigg[\\frac{z\\sigma}{\\epsilon_0}\\bigg]^{d/2}_{-d/2} \\\\\n",
    "    &= \\frac{\\sigma d}{\\epsilon_0}\n",
    "\\end{align*}\n",
    "$$\n",
    "\n",
    "---"
   ]
  },
  {
   "cell_type": "markdown",
   "id": "40e8e380",
   "metadata": {},
   "source": [
    "### 7.3. Potential Difference of Two Spherical Shells\n",
    "- Consider two spherical shells where the inner has charge $+Q$ at radius $a$ and the outer has charge $-Q$ at radius $b$.\n",
    "- A particle travels from the outer shell to the inner shell so the path is along the radius and\n",
    "$$\n",
    "    d\\vec{\\mathbf{s}} = \\hat{\\mathbf{r}}dr\n",
    "$$\n",
    "The electric field between the two shells is\n",
    "$$\n",
    "    \\vec{\\mathbf{E}}(r) = \\frac{k Q\\hat{\\mathbf{r}}}{r^2}\n",
    "$$\n",
    "The dot product $\\hat{\\mathbf{r}}\\cdot \\hat{\\mathbf{r}} = 1$ so the potential difference of the two shells is\n",
    "$$\n",
    "\\begin{align*}\n",
    "    V(a) - V(b) &= -\\int^a_b \\frac{kQ}{r^2} dr \\\\\n",
    "    &= kQ\\bigg[\\frac{1}{r}\\bigg]^a_b \\\\\n",
    "    &= kQ\\bigg(\\frac{1}{a} - \\frac{1}{b}\\bigg)\n",
    "\\end{align*}\n",
    "$$\n",
    "\n",
    "---"
   ]
  },
  {
   "cell_type": "markdown",
   "id": "240f4d1d",
   "metadata": {},
   "source": [
    "### 7.4. Potential Difference of Two Concentric Cylinders\n",
    "- Consider two cylindrical shells of infinite length where the inner has a uniform charge distribution, $+\\lambda$ and the outer has a uniform charge distribution $-\\lambda$. A particle travels from the outer shell to the inner shell.\n",
    "- From Gauss's Law, the electric field from $a$ to $b$ is\n",
    "$$\n",
    "    \\vec{\\mathbf{E}}(r) = \\frac{\\lambda}{2\\pi\\epsilon_0} \\frac{1}{r}\\hat{\\mathbf{r}}\n",
    "$$\n",
    "- The potential difference of the two cylinders is\n",
    "$$\n",
    "\\begin{align*}\n",
    "    V(a) - V(b) &= -\\int^a_b \\frac{\\lambda}{2\\pi\\epsilon_0}\\frac{1}{r} dr \\\\\n",
    "    &= -\\frac{\\lambda}{2\\pi\\epsilon_0}\\bigg[\\ln|r|\\bigg]^a_b \\\\\n",
    "    &= -\\frac{\\lambda}{2\\pi\\epsilon_0}\\ln\\bigg(\\frac{a}{b}\\bigg) \\\\\n",
    "    &= \\frac{\\lambda}{2\\pi\\epsilon_0}\\ln\\bigg(\\frac{b}{a}\\bigg)\n",
    "\\end{align*}\n",
    "$$\n",
    "\n",
    "---\n",
    "---"
   ]
  },
  {
   "cell_type": "markdown",
   "id": "f72cdcb0",
   "metadata": {},
   "source": [
    "## 8. Work and Potential Energy\n",
    "\n",
    "---"
   ]
  },
  {
   "cell_type": "markdown",
   "id": "0e4c9984",
   "metadata": {},
   "source": [
    "### 8.1. Potential and Potential Energy\n",
    "\n",
    "---"
   ]
  },
  {
   "cell_type": "markdown",
   "id": "54010266",
   "metadata": {},
   "source": [
    "### 8.2. Work for a Moving Point Charge\n",
    "\n",
    "---"
   ]
  },
  {
   "cell_type": "markdown",
   "id": "6732c14b",
   "metadata": {},
   "source": [
    "### 8.3. Sign of Work\n",
    "\n",
    "---"
   ]
  },
  {
   "cell_type": "markdown",
   "id": "c1934944",
   "metadata": {},
   "source": [
    "### 8.4. Potential for a Point Charge\n",
    "\n",
    "---"
   ]
  },
  {
   "cell_type": "markdown",
   "id": "bbf9f555",
   "metadata": {},
   "source": [
    "### 8.5. Breakdown of Air\n",
    "\n",
    "---\n",
    "---"
   ]
  },
  {
   "cell_type": "markdown",
   "id": "a86c7f69",
   "metadata": {},
   "source": [
    "## 9. Electric Potential from Continuous Sources and Configuration Energy\n",
    "\n",
    "---"
   ]
  },
  {
   "cell_type": "markdown",
   "id": "f63c1ce9",
   "metadata": {},
   "source": [
    "### 9.1. Zero Point of the Potential Function\n",
    "\n",
    "---"
   ]
  },
  {
   "cell_type": "markdown",
   "id": "46b1009e",
   "metadata": {},
   "source": [
    "### 9.2. Superposition of Potential\n",
    "\n",
    "---"
   ]
  },
  {
   "cell_type": "markdown",
   "id": "ade2e45a",
   "metadata": {},
   "source": [
    "### 9.3. Potential for an Arbitrary Charge Source\n",
    "\n",
    "---"
   ]
  },
  {
   "cell_type": "markdown",
   "id": "fde290c0",
   "metadata": {},
   "source": [
    "### 9.4. Potential Along the Axis of a Uniformly Charged Ring\n",
    "\n",
    "---"
   ]
  },
  {
   "cell_type": "markdown",
   "id": "54fc3158",
   "metadata": {},
   "source": [
    "### 9.5. Potential Near a Uniformly Charged Rod\n",
    "\n",
    "---"
   ]
  },
  {
   "cell_type": "markdown",
   "id": "284ba37e",
   "metadata": {},
   "source": [
    "### 9.6. Configuration Energy\n",
    "\n",
    "---\n",
    "---"
   ]
  },
  {
   "cell_type": "markdown",
   "id": "e7ce2e42",
   "metadata": {},
   "source": [
    "## 10. Finding Electric Field from Potential\n",
    "\n",
    "---"
   ]
  },
  {
   "cell_type": "markdown",
   "id": "8d8f5e80",
   "metadata": {},
   "source": [
    "### 10.1. Electric Field is the Negative Gradient of Potential\n",
    "\n",
    "---"
   ]
  },
  {
   "cell_type": "markdown",
   "id": "0b9cec9e",
   "metadata": {},
   "source": [
    "### 10.2. Calculate Electric Field from the Potential Along the Axis of a Charged Ring\n",
    "\n",
    "---"
   ]
  },
  {
   "cell_type": "markdown",
   "id": "d53f6196",
   "metadata": {},
   "source": [
    "### 10.3. Calculate the Electric Field from the Potential of Three Point Charges\n",
    "\n",
    "---"
   ]
  },
  {
   "cell_type": "markdown",
   "id": "ae0bed3f",
   "metadata": {},
   "source": [
    "### 10.4. Equipotentials\n",
    "\n",
    "---\n",
    "---"
   ]
  },
  {
   "cell_type": "markdown",
   "id": "7cee87c5",
   "metadata": {},
   "source": []
  }
 ],
 "metadata": {
  "language_info": {
   "name": "python"
  }
 },
 "nbformat": 4,
 "nbformat_minor": 5
}
