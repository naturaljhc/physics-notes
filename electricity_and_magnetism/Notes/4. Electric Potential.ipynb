{
 "cells": [
  {
   "cell_type": "markdown",
   "id": "9d12d6dd",
   "metadata": {},
   "source": [
    "# Week 4: Electric Potential\n",
    "📅 Date: 13 July, 2025\n",
    "\n",
    "- [7. Electric Potential Difference](#7-electric-potential-difference)\n",
    "    - [7.1. Electric Potential Difference](#71-electric-potential-difference)\n",
    "    - [7.2. Potential Difference of Two Parallel Plates](#72-potential-difference-of-two-parallel-plates)\n",
    "    - [7.3. Potential Difference of Two Spherical Shells](#73-potential-difference-of-two-spherical-shells)\n",
    "    - [7.4. Potential Difference of Two Concentric Cylinders](#74-potential-difference-of-two-concentric-cylinders)\n",
    "- [8. Work and Potential Energy](#8-work-and-potential-energy)\n",
    "    - [8.1. Potential and Potential Energy](#81-potential-and-potential-energy)\n",
    "    - [8.2. Work for a Moving Point Charge](#82-work-for-a-moving-point-charge)\n",
    "    - [8.3. Sign of Work](#83-sign-of-work)\n",
    "    - [8.4. Potential for a Point Charge](#84-potential-for-a-point-charge)\n",
    "- [9. Electric Potential from Continuous Sources and Configuration Energy](#9-electric-potential-from-continuous-sources-and-configuration-energy)\n",
    "    - [9.1. Zero Point of the Potential Function](#91-zero-point-of-the-potential-function)\n",
    "    - [9.2. Superposition of Potential](#92-superposition-of-potential)\n",
    "    - [9.3. Potential for an Arbitrary Charge Source](#93-potential-for-an-arbitrary-charge-source)\n",
    "    - [9.4. Potential Along the Axis of a Uniformly Charged Ring](#94-potential-along-the-axis-of-a-uniformly-charged-ring)\n",
    "    - [9.5. Potential Near a Uniformly Charged Rod](#95-potential-near-a-uniformly-charged-rod)\n",
    "    - [9.6. Configuration Energy](#96-configuration-energy)\n",
    "- [10. Finding Electric Field from Potential](#10-finding-electric-field-from-potential)\n",
    "    - [10.1. Electric Field is the Negative Gradient of Potential](#101-electric-field-is-the-negative-gradient-of-potential)\n",
    "    - [10.2. Calculate Electric Field from the Potential Along the Axis of a Charged Ring](#102-calculate-electric-field-from-the-potential-along-the-axis-of-a-charged-ring)\n",
    "    - [10.3. Calculate the Electric Field from the Potential of Three Point Charges](#103-calculate-the-electric-field-from-the-potential-of-three-point-charges)\n",
    "    - [10.4. Equipotentials](#104-equipotentials)\n",
    "\n",
    "---\n",
    "---"
   ]
  },
  {
   "cell_type": "markdown",
   "id": "6a7c5a2d",
   "metadata": {},
   "source": [
    "## 7. Electric Potential Difference\n",
    "\n",
    "---"
   ]
  },
  {
   "cell_type": "markdown",
   "id": "615701d3",
   "metadata": {},
   "source": [
    "### 7.1. Electric Potential Difference\n",
    "- The Electric Potential Difference from point $A$ to point $B$ is\n",
    "$$\n",
    "\\begin{align*}\n",
    "    V(B) - V(A) &= -\\int^B_A \\frac{\\vec{\\mathbf{F}}_{s,t}}{q_t} \\cdot d\\vec{\\mathbf{s}} \\\\\n",
    "    V(B) - V(A) &= -\\int^B_A \\vec{\\mathbf{E}}_{s,t} \\cdot d\\vec{\\mathbf{s}}\n",
    "\\end{align*}\n",
    "$$\n",
    "\n",
    "---"
   ]
  },
  {
   "cell_type": "markdown",
   "id": "d3e2157c",
   "metadata": {},
   "source": [
    "### 7.2. Potential Difference of Two Parallel Plates\n",
    "- Consider two plates located at $z=d/2$ (with surface charge density $+\\sigma$) and $z=-d/2$ (with surface charge density $-\\sigma$).\n",
    "- The regions on the outside have a net 0 electric field.\n",
    "- Consider a particle moving from $-d/2$ to $d/2$; the electric field in this path is $E_z = -\\sigma/\\epsilon_0$\n",
    "$$\n",
    "\\begin{align*}\n",
    "    V(d/2)-V(-d/2) &= -\\int^{d/2}_{-d/2} -\\frac{\\sigma}{\\epsilon_0} dz \\\\\n",
    "    &= \\int^{d/2}_{-d/2} \\frac{\\sigma}{\\epsilon_0} dz \\\\\n",
    "    &= \\bigg[\\frac{z\\sigma}{\\epsilon_0}\\bigg]^{d/2}_{-d/2} \\\\\n",
    "    &= \\frac{\\sigma d}{\\epsilon_0}\n",
    "\\end{align*}\n",
    "$$\n",
    "\n",
    "---"
   ]
  },
  {
   "cell_type": "markdown",
   "id": "40e8e380",
   "metadata": {},
   "source": [
    "### 7.3. Potential Difference of Two Spherical Shells\n",
    "- Consider two spherical shells where the inner has charge $+Q$ at radius $a$ and the outer has charge $-Q$ at radius $b$.\n",
    "- A particle travels from the outer shell to the inner shell so the path is along the radius and\n",
    "$$\n",
    "    d\\vec{\\mathbf{s}} = \\hat{\\mathbf{r}}dr\n",
    "$$\n",
    "The electric field between the two shells is\n",
    "$$\n",
    "    \\vec{\\mathbf{E}}(r) = \\frac{k Q\\hat{\\mathbf{r}}}{r^2}\n",
    "$$\n",
    "The dot product $\\hat{\\mathbf{r}}\\cdot \\hat{\\mathbf{r}} = 1$ so the potential difference of the two shells is\n",
    "$$\n",
    "\\begin{align*}\n",
    "    V(a) - V(b) &= -\\int^a_b \\frac{kQ}{r^2} dr \\\\\n",
    "    &= kQ\\bigg[\\frac{1}{r}\\bigg]^a_b \\\\\n",
    "    &= kQ\\bigg(\\frac{1}{a} - \\frac{1}{b}\\bigg)\n",
    "\\end{align*}\n",
    "$$\n",
    "\n",
    "---"
   ]
  },
  {
   "cell_type": "markdown",
   "id": "240f4d1d",
   "metadata": {},
   "source": [
    "### 7.4. Potential Difference of Two Concentric Cylinders\n",
    "- Consider two cylindrical shells of infinite length where the inner has a uniform charge distribution, $+\\lambda$ and the outer has a uniform charge distribution $-\\lambda$. A particle travels from the outer shell to the inner shell.\n",
    "- From Gauss's Law, the electric field from $a$ to $b$ is\n",
    "$$\n",
    "    \\vec{\\mathbf{E}}(r) = \\frac{\\lambda}{2\\pi\\epsilon_0} \\frac{1}{r}\\hat{\\mathbf{r}}\n",
    "$$\n",
    "- The potential difference of the two cylinders is\n",
    "$$\n",
    "\\begin{align*}\n",
    "    V(a) - V(b) &= -\\int^a_b \\frac{\\lambda}{2\\pi\\epsilon_0}\\frac{1}{r} dr \\\\\n",
    "    &= -\\frac{\\lambda}{2\\pi\\epsilon_0}\\bigg[\\ln|r|\\bigg]^a_b \\\\\n",
    "    &= -\\frac{\\lambda}{2\\pi\\epsilon_0}\\ln\\bigg(\\frac{a}{b}\\bigg) \\\\\n",
    "    &= \\frac{\\lambda}{2\\pi\\epsilon_0}\\ln\\bigg(\\frac{b}{a}\\bigg)\n",
    "\\end{align*}\n",
    "$$\n",
    "\n",
    "---\n",
    "---"
   ]
  },
  {
   "cell_type": "markdown",
   "id": "f72cdcb0",
   "metadata": {},
   "source": [
    "## 8. Work and Potential Energy\n",
    "\n",
    "---"
   ]
  },
  {
   "cell_type": "markdown",
   "id": "0e4c9984",
   "metadata": {},
   "source": [
    "### 8.1. Potential and Potential Energy\n",
    "- Potential difference is not dependent on path taken\n",
    "$$\n",
    "    \\Delta V_{A,B} = -\\frac{W_{A,B}}{q_t}\n",
    "$$\n",
    "- The change in potential energy was defined as\n",
    "$$\n",
    "    \\Delta U_{A,B} = -W_{A,B}\n",
    "$$\n",
    "- So the potential difference from $A$ to $B$ is the change in potential energy per test charge\n",
    "$$\n",
    "    \\Delta V_{A,B} = \\frac{\\Delta U_{A,B}}{q_t}\n",
    "$$\n",
    "- The total work done by an external force is the sum of the change in kinetic energy and potential energy. In terms of electrostatic interaction:\n",
    "$$\n",
    "    W = \\Delta K + q\\Delta V\n",
    "$$\n",
    "\n",
    "---"
   ]
  },
  {
   "cell_type": "markdown",
   "id": "54010266",
   "metadata": {},
   "source": [
    "### 8.2. Work for a Moving Point Charge\n",
    "- Consider two charges such that $q_1q_2>0$. The work done on $q_2$ by $q_1$ is\n",
    "$$\n",
    "    W = \\int \\vec{\\mathbf{F}}_{1,2}\\cdot d\\vec{\\mathbf{s}}\n",
    "$$\n",
    "- The force, given by Coulomb's Law, is\n",
    "$$\n",
    "    \\vec{\\mathbf{F}}_{1,2} = \\frac{kq_1q_2}{r_{1,2}^2}\\hat{\\mathbf{r}}_{1,2}\n",
    "$$\n",
    "- If $q_1$ is held in place, we only need to look at the part of the path that is in the same direction as $\\vec{\\mathbf{F}}_{1,2}$ (other part is orthogonal and thus, will result in 0).\n",
    "$$\n",
    "    d\\vec{\\mathbf{s}} = dr\\hat{\\mathbf{r}} + d\\theta \\hat{\\mathbf{\\theta}}\n",
    "$$\n",
    "- The work done can then be rewritten as\n",
    "$$\n",
    "\\begin{align*}\n",
    "    W &= \\int^{r_B}_{r_A} \\frac{kq_1q_2}{r^2} dr \\\\\n",
    "    W &= -\\frac{kq_1q_2}{r}\\bigg|^{r_B}_{r_A} \\\\\n",
    "    &= -kq_1q_2\\bigg(\\frac{1}{r_B} - \\frac{1}{r_A}\\bigg) \\\\\n",
    "    &= kq_1q_2\\bigg(\\frac{1}{r_A} - \\frac{1}{r_B}\\bigg)\n",
    "\\end{align*}\n",
    "$$\n",
    "- If the work done by a force in moving an object from point $A$ to point $B$ is independent of the path, then the force is called a conservative force. The work done by the conservative force only depends on the location of the points $A$ and $B$.\n",
    "- Work done by a conservative force to move an object along a closed path is zero\n",
    "$$\n",
    "    W = \\oint\\vec{\\mathbf{F}}\\cdot d\\vec{\\mathbf{s}} = 0\n",
    "$$\n",
    "\n",
    "---"
   ]
  },
  {
   "cell_type": "markdown",
   "id": "6732c14b",
   "metadata": {},
   "source": [
    "### 8.3. Sign of Work\n",
    "- Negative work means the particle moved in the opposite direction of the electric field\n",
    "- When an electric field does negative work, a freely moving particle is losing kinetic energy. When an electric field does positive work, a freely moving particle is gaining kinetic energy.\n",
    "\n",
    "---"
   ]
  },
  {
   "cell_type": "markdown",
   "id": "c1934944",
   "metadata": {},
   "source": [
    "### 8.4. Potential for a Point Charge\n",
    "- Suppose that a particle starts at $r_A = \\infty$ and goes to $r_B = r$. Then the potential difference is\n",
    "$$\n",
    "\\begin{align*}\n",
    "    V(r) - V(\\infty) &= \\frac{kq_s}{r}\n",
    "    &= \\frac{-W(s, t)}{q_t}\n",
    "\\end{align*}\n",
    "$$\n",
    "\n",
    "---\n",
    "---"
   ]
  },
  {
   "cell_type": "markdown",
   "id": "a86c7f69",
   "metadata": {},
   "source": [
    "## 9. Electric Potential from Continuous Sources and Configuration Energy\n",
    "\n",
    "---"
   ]
  },
  {
   "cell_type": "markdown",
   "id": "f63c1ce9",
   "metadata": {},
   "source": [
    "### 9.1. Zero Point of the Potential Function\n",
    "- Take $V(\\infty)$ as the zero point of the potential function\n",
    "$$\n",
    "    V(\\infty) = 0\n",
    "$$\n",
    "- As $r$ approaches infinity, $V(r)$ approaches zero. If $q_s>0$, then $V(r)>0$ and if $q_s<0$, then $V(r)<0$\n",
    "---"
   ]
  },
  {
   "cell_type": "markdown",
   "id": "46b1009e",
   "metadata": {},
   "source": [
    "### 9.2. Superposition of Potential\n",
    "- The superposition of electric potential is simply due to linearity of electric fields\n",
    "$$\n",
    "    V(P) - V(\\infty) = -\\int^P_\\infty (\\vec{\\mathbf{E}}_1 + \\vec{\\mathbf{E}}_2 + \\vec{\\mathbf{E}}_3) \\cdot d\\vec{\\mathbf{s}}\n",
    "$$\n",
    "\n",
    "---"
   ]
  },
  {
   "cell_type": "markdown",
   "id": "ade2e45a",
   "metadata": {},
   "source": [
    "### 9.3. Potential for an Arbitrary Charge Source\n",
    "- Suppose we now have a continuous distribution of source charge. If we divide the source up into small pieces that is $r$ away, then we can use the superposition principle to find the total potential difference\n",
    "$$\n",
    "\\begin{align*}\n",
    "    V(P) - V(\\infty) &= \\int\\frac{kdq_s}{r_{dq_s,P}} \\\\\n",
    "    V(\\vec{\\mathbf{r}}_P) &= \\int\\frac{k}{|\\vec{\\mathbf{r}}_P - \\vec{\\mathbf{r}}_s|} dq_s\n",
    "\\end{align*}\n",
    "$$\n",
    "\n",
    "---"
   ]
  },
  {
   "cell_type": "markdown",
   "id": "fde290c0",
   "metadata": {},
   "source": [
    "### 9.4. Potential Along the Axis of a Uniformly Charged Ring\n",
    "- Consider a ring with radius, $R$, and uniform charge, $Q$. For a point, $P$, along the $z$-axis,\n",
    "$$\n",
    "    V(z) - V(\\infty) = \\int \\frac{kdq_s}{r_{dq_s, P}}\n",
    "$$\n",
    "- The magnitude of the vector from any point on the ring to $P$ is\n",
    "$$\n",
    "    r_{dq_s, P} = (z^2 + R^2)^{1/2}\n",
    "$$\n",
    "- The integral becomes\n",
    "$$\n",
    "\\begin{align*}\n",
    "    V(z) &= \\int \\frac{kdq_s}{(z^2 + R^2)^{1/2}} \\\\\n",
    "    &= \\frac{k}{(z^2 + R^2)^{1/2}} \\int dq_s \\\\\n",
    "    &= \\frac{kQ}{(z^2 + R^2)^{1/2}}\n",
    "\\end{align*}\n",
    "$$\n",
    "\n",
    "---"
   ]
  },
  {
   "cell_type": "markdown",
   "id": "54fc3158",
   "metadata": {},
   "source": [
    "### 9.5. Potential Near a Uniformly Charged Rod\n",
    "- A rod has a uniform charge $\\lambda$. A small segment has charge $dq_s$ and the electric potential is\n",
    "$$\n",
    "    V(P) - V(\\infty) = \\int \\frac{kdq_s}{r_{dq_s,P}}\n",
    "$$\n",
    "- If the origin is at one end of the rod, then the distance between the point and the small segement of charge is\n",
    "$$\n",
    "    r_{dq_s, P} = x_p - x\n",
    "$$\n",
    "- The charge on any segment is\n",
    "$$\n",
    "\\begin{align*}\n",
    "    \\frac{dq}{dx} &= \\lambda \\\\ \n",
    "    dq &= \\lambda dx\n",
    "\\end{align*}\n",
    "$$\n",
    "- Then the integral becomes\n",
    "$$\n",
    "\\begin{align*}\n",
    "    V(x) &= \\int^L_0 \\frac{k\\lambda}{x_P - x}dx \\\\\n",
    "    &= -k\\lambda\\ln(x_p - x)\\bigg|^L_0 \\\\\n",
    "    &= k\\lambda\\ln\\bigg(\\frac{x_P}{x_P-L}\\bigg)\n",
    "\\end{align*}\n",
    "$$\n",
    "---"
   ]
  },
  {
   "cell_type": "markdown",
   "id": "284ba37e",
   "metadata": {},
   "source": [
    "### 9.6. Configuration Energy\n",
    "- How much energy is stored in some configuration of charges?\n",
    "- Using the superposition principle, the total energy stored is the sum of the potential energy between all combination of charges.\n",
    "\n",
    "---\n",
    "---"
   ]
  },
  {
   "cell_type": "markdown",
   "id": "e7ce2e42",
   "metadata": {},
   "source": [
    "## 10. Finding Electric Field from Potential\n",
    "\n",
    "---"
   ]
  },
  {
   "cell_type": "markdown",
   "id": "8d8f5e80",
   "metadata": {},
   "source": [
    "### 10.1. Electric Field is the Negative Gradient of Potential\n",
    "- From the fundamental theorem of calculus,\n",
    "$$\n",
    "V(B) - V(A) = \\int^B_A \\vec{\\nabla} V\\cdot d\\vec{\\mathbf{s}}\n",
    "$$\n",
    "- From before, we had\n",
    "$$\n",
    "V(B) - V(A) = -\\int^B_A \\vec{\\mathbf{E}} \\cdot d\\vec{\\mathbf{s}}\n",
    "$$\n",
    "- Then the electric field is the negative gradient of the potential, i.e.,\n",
    "$$\n",
    "\\vec{\\mathbf{E}} = -\\vec{\\nabla} V\n",
    "$$\n",
    "- In other words, the direction of the electric field is towards lower potential.\n",
    "\n",
    "---"
   ]
  },
  {
   "cell_type": "markdown",
   "id": "0b9cec9e",
   "metadata": {},
   "source": [
    "### 10.2. Calculate Electric Field from the Potential Along the Axis of a Charged Ring\n",
    "- Consider the uniformly charged ring again where we found the potential was\n",
    "$$\n",
    "V(z) = \\frac{kQ}{(z^2 + R^2)^{1/2}}\n",
    "$$\n",
    "- If we take the gradient of this function, only the $\\hat{\\mathbf{k}}$ remains so the electric field is\n",
    "$$\n",
    "E(z) = \\frac{kQz}{(z^2+R^2)^{3/2}}\n",
    "$$\n",
    "\n",
    "---"
   ]
  },
  {
   "cell_type": "markdown",
   "id": "d53f6196",
   "metadata": {},
   "source": [
    "### 10.3. Calculate the Electric Field from the Potential of Three Point Charges\n",
    "- Knowing the potential difference at one point does not give enough information to determine the derivative\n",
    "\n",
    "---\n",
    "---"
   ]
  },
  {
   "cell_type": "markdown",
   "id": "7cee87c5",
   "metadata": {},
   "source": []
  }
 ],
 "metadata": {
  "language_info": {
   "name": "python"
  }
 },
 "nbformat": 4,
 "nbformat_minor": 5
}
