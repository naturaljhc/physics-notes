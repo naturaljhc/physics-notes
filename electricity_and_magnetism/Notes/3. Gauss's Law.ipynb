{
 "cells": [
  {
   "cell_type": "markdown",
   "metadata": {},
   "source": [
    "# Week 3: Gauss's Law\n",
    "📅 Date: 11 July, 2025\n",
    "\n",
    "- [5. Gauss's Law](#5-gausss-law)\n",
    "    - [5.1. Introduction to Gauss's Law](#51-introduction-to-gausss-law)\n",
    "    - [5.2. Electric Flux of a Uniform Electric Field Through an Open Surface](#52-electric-flux-of-a-uniform-electric-field-through-an-open-surface)\n",
    "    - [5.3. Electric Flux of a Non-uniform Electric Field Through an Open Surface](#53-electric-flux-of-a-non-uniform-electric-field-through-an-open-surface)\n",
    "    - [5.4. Electric Flux Through a Closed Surface](#54-electric-flux-through-a-closed-surface)\n",
    "    - [5.5. Gauss's Law Misconception - Zero Charge Enclosed Does Not Mean No Electric Field](#55-gausss-law-misconception---zero-charge-enclosed-does-not-mean-no-electric-field)\n",
    "- [6a. Using Gauss's Law to Find E-Field - Planar Symmetry](#6a-using-gausss-law-to-find-e-field---planar-symmetry)\n",
    "    - [6a.1. Gauss's Law as Surface and Volume Integrals](#6a1-gausss-law-as-surface-and-volume-integrals)\n",
    "    - [6a.2. Source with Symmetry for Gauss's Law](#6a2-source-with-symmetry-for-gausss-law)\n",
    "    - [6a.3. Electric Field of an Infinite Sheet](#6a3-electric-field-of-an-infinite-sheet)\n",
    "    - [6a.4. Electric Field of Two Infinite Sheets](#6a4-electric-field-of-two-infinite-sheets)\n",
    "    - [6a.5. Electric Field of an Infinite Slab](#6a5-electric-field-of-an-infinite-slab)\n",
    "    - [6a.6. Electric Field of an Non-uniform Infinite Slab](#6a6-electric-field-of-an-non-uniform-infinite-slab)\n",
    "- [6b. Cylindrical and Spherical Symmetry](#6b-cylindrical-and-spherical-symmetry)\n",
    "    - [6b.1. Electric Field of an Infinite Wire](#6b1-electric-field-of-an-infinite-wire)\n",
    "    - [6b.2. Electric Field of an Infinite Cylinder](#6b2-electric-field-of-an-infinite-cylinder)\n",
    "    - [6b.3. Electric FIeld of a Non-uniform Infinite Cylinder](#6b3-electric-field-of-a-non-uniform-infinite-cylinder)\n",
    "    - [6b.4. Electric Field of a Sphere](#6b4-electric-field-of-a-sphere)\n",
    "    - [6b.5. Electric FIeld Inside a Spherical Shell](#6b5-electric-field-inside-a-spherical-shell)\n",
    "    - [6b.6. Force on a Charge Inside a Spherical Shell](#6b6-force-on-a-charge-inside-a-spherical-shell)\n",
    "    - [6b.7. Electric FIeld of Two Spherical Shells](#6b7-electric-field-of-two-spherical-shells)\n",
    "\n",
    "---"
   ]
  },
  {
   "cell_type": "markdown",
   "metadata": {},
   "source": [
    "## 5. Gauss's Law\n",
    "\n",
    "---"
   ]
  },
  {
   "cell_type": "markdown",
   "metadata": {},
   "source": [
    "### 5.1. Introduction to Gauss's Law\n",
    "- Suppose an area encloses some charge. The Electric Flux through the surface is given by Gauss's Law:\n",
    "$$\n",
    "\\Phi_E = \\iint\\vec{\\mathbf{E}}\\cdot d\\vec{\\mathbf{A}}=\\frac{Q}{\\epsilon_0} \\\\\n",
    "$$\n",
    "\n",
    "---"
   ]
  },
  {
   "cell_type": "markdown",
   "metadata": {},
   "source": [
    "### 5.2. Electric Flux of a Uniform Electric Field Through an Open Surface\n",
    "- Consider an open surface with area $A$ and a uniform electric field. The area vector associated with the open surface is\n",
    "$$\n",
    "\\vec{\\mathbf{A}} = A\\hat{n}\n",
    "$$\n",
    "- So we can rewrite the electric flux as\n",
    "$$\n",
    "\\Phi_E = \\iint\\vec{\\mathbf{E}}\\cdot \\hat{n}\\text{ }dA\n",
    "$$\n",
    "- If $\\vec{\\mathbf{E}}$ and $\\hat{n}$ are parallel, then $\\Phi_E = EA$\n",
    "- If $\\vec{\\mathbf{E}}$ and $\\hat{n}$ are perpendicular, then $\\Phi_E = 0$\n",
    "- If $\\vec{\\mathbf{E}}$ makes an angle $\\theta$ with $\\hat{n}$, then $\\Phi_E = EA\\cos\\theta$\n",
    "\n",
    "---"
   ]
  },
  {
   "cell_type": "markdown",
   "metadata": {},
   "source": [
    "### 5.3. Electric Flux of a Non-uniform Electric Field Through an Open Surface\n",
    "- For a non-uniform electric field through a complex open surface, we need to calculate the surface integral using infinitesimally small sections of the surface.\n",
    "\n",
    "---"
   ]
  },
  {
   "cell_type": "markdown",
   "metadata": {},
   "source": [
    "### 5.4. Electric Flux Through a Closed Surface\n",
    "- For a closed surface, always choose $\\hat{n}$ to be pointing out\n",
    "$$\n",
    "\\Phi_E = \\oiint(\\vec{\\mathbf{E}}\\cdot\\hat{n})dA\n",
    "$$\n",
    "\n",
    "- Consider a point charge at the center of a sphere. The normal vector, $\\hat{n}$ is in the same direction as $\\vec{r}$ which means $\\hat{n} = \\hat{r}$. The electric field at any given point on the surface is\n",
    "$$\n",
    "\\vec{\\mathbf{E}}_q = \\frac{kq\\hat{r}}{r^2}\n",
    "$$\n",
    "- And so we have the dot product\n",
    "$$\n",
    "\\vec{\\mathbf{E}}_q = \\frac{kq\\hat{r}}{r^2}\\cdot \\hat{r} = \\frac{kq}{r^2}\n",
    "$$\n",
    "\n",
    "The electric flux is then\n",
    "$$\n",
    "\\begin{align*}\n",
    "    \\Phi_E &= \\oiint\\frac{kq}{r^2}\\text{ }dA \\\\\n",
    "    &= \\frac{kq}{r^2}\\oiint\\text{ }dA \\\\\n",
    "    &= \\frac{kq}{r^2}(4\\pi r^2) \\\\\n",
    "    &= \\frac{4\\pi r^2q}{4\\pi\\epsilon_0 r^2} \\\\\n",
    "    &= \\frac{q}{\\epsilon_0}\n",
    "\\end{align*}\n",
    "$$\n",
    "\n",
    "---"
   ]
  },
  {
   "cell_type": "markdown",
   "metadata": {},
   "source": [
    "### 5.5. Gauss's Law Misconception - Zero Charge Enclosed Does Not Mean No Electric Field\n",
    "- The electric flux (total field lines) could be zero, but it doesn't mean the electric field is 0 (for example, if a dipole is contained within the surface)\n",
    "\n",
    "\n",
    "---\n",
    "---"
   ]
  },
  {
   "cell_type": "markdown",
   "metadata": {},
   "source": [
    "## 6a. Using Gauss's Law to Find E-Field - Planar Symmetry\n",
    "\n",
    "---"
   ]
  },
  {
   "cell_type": "markdown",
   "metadata": {},
   "source": [
    "### 6a.1. Gauss's Law as Surface and Volume Integrals\n",
    "- For an unknown charge within a closed surface, the unknown charge has charge density $\\rho$ and a small section of the source has charge\n",
    "$$\n",
    "dq = \\rho dV\n",
    "$$\n",
    "- Then the enclosed charge is\n",
    "$$\n",
    "q = \\iiint \\rho dV\n",
    "$$\n",
    "- Gauss's Law can then be rewritten as\n",
    "$$\n",
    "\\oiint \\vec{\\mathbf{E}}\\cdot\\hat{n}dA = \\frac{1}{\\epsilon_0}\\iiint \\rho dV\n",
    "$$\n",
    "\n",
    "---"
   ]
  },
  {
   "cell_type": "markdown",
   "metadata": {},
   "source": [
    "### 6a.2. Source with Symmetry for Gauss's Law\n",
    "1. Spherical Symmetry\n",
    "2. Cylindrical Symmetry\n",
    "3. Planar Symmetry\n",
    "\n",
    "---"
   ]
  },
  {
   "cell_type": "markdown",
   "metadata": {},
   "source": [
    "### 6a.3. Electric Field of an Infinite Sheet\n",
    "- Consider some point, $P$. If the sheet has a uniform charge density, then any $dq_1$ along the sheet will produce an electric field on $P$. Since the sheet is infinite, there is guaranteed to be another, symmetrical $dq_2$, that produces an electric field that is opposite on $P$ resulting in a net electric field pointing in the normal direction.\n",
    "- Consider a Gaussian Surface in the shape of a cylinder encapsulating a small section, $dq$. The curved surface of the cylinder will have a electric flux of 0 since the normal is perpendicular to the electric field. The other two flat ends with have normals in the same direction as the electric field:\n",
    "$$\n",
    "\\begin{align*}\n",
    "    \\oiint \\vec{\\mathbf{E}}\\cdot d\\vec{A} = \\frac{q}{\\epsilon_0} \\\\\n",
    "    EA+EA+0 = \\frac{\\sigma dA}{\\epsilon_0} \\\\\n",
    "    2EQ = \\frac{\\sigma A}{\\epsilon_0} \\\\\n",
    "    E &= \\frac{\\sigma}{2\\epsilon_0}\n",
    "\\end{align*}\n",
    "$$\n",
    "- The electric field would differ by sign in the positive and negative directions.\n",
    "\n",
    "---"
   ]
  },
  {
   "cell_type": "markdown",
   "metadata": {},
   "source": [
    "### 6a.4. Electric Field of Two Infinite Sheets\n",
    "- Consider two oppositely charged sheets. Applying the superposition principle, the outside regions of the sheets have a net $0$ electric field. Only the space between the two sheets experiences an electric field. The electric field in the middle region (pointing towards the negatively charged sheet) is\n",
    "$$\n",
    "\\begin{align*}\n",
    "    \\Phi_E &= \\frac{q}{\\epsilon_0} \\\\\n",
    "    EA &= \\frac{\\sigma A}{\\epsilon_0} \\\\\n",
    "    E &= \\frac{\\sigma}{\\epsilon_0}\n",
    "\\end{align*}\n",
    "$$\n",
    "\n",
    "---"
   ]
  },
  {
   "cell_type": "markdown",
   "metadata": {},
   "source": [
    "### 6a.5. Electric Field of an Infinite Slab\n",
    "- Has the same planar symmetry as a sheet, but two additional regions inside; the center has to be 0\n",
    "$$\n",
    "    E =\n",
    "    \\begin{cases}\n",
    "        -\\frac{\\rho d }{2\\epsilon_0}\\hat{i} \\quad x<\\frac{-d}{2} \\\\\n",
    "        \\frac{\\rho x}{\\epsilon_0}\\hat{i} \\quad \\frac{-d}{2}>x<\\frac{d}{2} \\\\\n",
    "        \\frac{\\rho d }{2\\epsilon_0}\\hat{i} \\quad x>\\frac{d}{2}\n",
    "    \\end{cases}\n",
    "$$\n",
    "---"
   ]
  },
  {
   "cell_type": "markdown",
   "metadata": {},
   "source": [
    "### 6a.6. Electric Field of an Non-Uniform Infinite Slab\n",
    "- Suppose an infinite slab has a non-uniform charge density, $\\rho(x) = b|x|$\n",
    "- Consider the region $0\\leq x\\leq d/2$ (region 3)\n",
    "- Using a cylindrical Gaussian surface, each tiny cross section of the cylinder has an area of $A$ with thickness $dx'$ and is located $x'$ away from the center:\n",
    "$$\n",
    "\\begin{align*}\n",
    "    \\Phi &= \\frac{q}{\\epsilon_0} \\\\\n",
    "    EA &= \\frac{1}{\\epsilon_0}\\int\\rho(x)dV = \\frac{1}{\\epsilon_0}\\int^x_0 bx' A\\text{ dx'} \\\\\n",
    "    EA &= \\frac{1}{\\epsilon_0}\\frac{bx^2A}{2} \\\\\n",
    "    E &= \\frac{bx^2}{2\\epsilon_0}\n",
    "\\end{align*}\n",
    "$$\n",
    "\n",
    "---\n",
    "---"
   ]
  },
  {
   "cell_type": "markdown",
   "metadata": {},
   "source": [
    "## 6b. Cylindrical and Spherical Symmetry\n",
    "\n",
    "---"
   ]
  },
  {
   "cell_type": "markdown",
   "metadata": {},
   "source": [
    "### 6b.1. Electric Field of an Infinite Wire\n",
    "- Consider an infinite wire with uniform charge density $\\lambda$. Using planar symmetry, the electric field always points away from the wire.\n",
    "- Using a cylindrical gaussian surface with length $l$, the area is $A = 2\\pi r l$ and using Gauss's Law:\n",
    "$$\n",
    "\\begin{align*}\n",
    "    \\Phi &= \\frac{q}{\\epsilon_0} \\\\\n",
    "    EA &= \\frac{\\lambda l}{\\epsilon_0} \\\\\n",
    "    E (2\\pi r l) &= \\frac{\\lambda l}{\\epsilon_0} \\\\\n",
    "    E &= \\frac{\\lambda}{2\\pi\\epsilon_0}\\frac{1}{r}\n",
    "\\end{align*}\n",
    "$$\n",
    "\n",
    "---"
   ]
  },
  {
   "cell_type": "markdown",
   "metadata": {},
   "source": [
    "### 6b.2. Electric Field of an Infinite Cylinder\n",
    "- Consider an infinite cylinder with radius $a$. There are two regions - within the cylinder and outside the cylinder.\n",
    "- In the inner region, $0<r\\leq a$, consider a cylindrical gaussian surface\n",
    "$$\n",
    "\\begin{align*}\n",
    "    \\Phi &= \\frac{q}{\\epsilon_0} \\\\\n",
    "    E(2\\pi r l) &= \\frac{\\rho \\pi r^2 l}{\\epsilon_0} \\\\\n",
    "    E &= \\frac{\\rho}{2\\epsilon_0} r\n",
    "\\end{align*}\n",
    "$$\n",
    "- For the outside, $r\\geq a$, the flux is the same, but the enclosed charge is within the cylinder with radius $a$\n",
    "$$\n",
    "\\begin{align*}\n",
    "    \\Phi &= \\frac{q}{\\epsilon_0} \\\\\n",
    "    E(2\\pi r l) &= \\frac{\\rho \\pi a^2 l}{\\epsilon_0} \\\\\n",
    "    E &= \\frac{a^2\\rho}{2\\epsilon_0} \\frac{1}{r}\n",
    "\\end{align*}\n",
    "$$\n",
    "\n",
    "---"
   ]
  },
  {
   "cell_type": "markdown",
   "metadata": {},
   "source": [
    "### 6b.3. Electric Field of a Non-uniform Infinite Cylinder\n",
    "- Consider an infinite cylinder with radius $a$ and a non-uniform charge distribution, $\\rho (r) = br$. Again, there are two regions, within the cylinder and outside the cylinder.\n",
    "- In the inner region, $0<r\\leq a$:\n",
    "$$\n",
    "\\begin{align*}\n",
    "    \\Phi &= \\frac{1}{\\epsilon_0}\\int \\rho(r) dV \\\\\n",
    "    E(2\\pi r l) &= \\frac{1}{\\epsilon_0}\\int^r_0 br'(2\\pi r' l) dr' \\\\\n",
    "    2\\pi r l E &= \\frac{2b\\pi l}{\\epsilon_0} \\frac{1}{3}r^3 \\\\\n",
    "    E &= \\frac{b}{3\\epsilon_0} r^2\n",
    "\\end{align*}\n",
    "$$\n",
    "- In the outer region, the flux is the same, but the charge has a radius from $0$ to $a$\n",
    "$$\n",
    "\\begin{align*}\n",
    "    \\Phi &= \\frac{1}{\\epsilon_0}\\int \\rho(r) dV \\\\\n",
    "    E(2\\pi r l) &= \\frac{1}{\\epsilon_0}\\int^a_0 br'(2\\pi r' l) dr' \\\\\n",
    "    2\\pi r l E &= \\frac{2b\\pi l}{\\epsilon_0} \\frac{1}{3}a^3 \\\\\n",
    "    E &= \\frac{ba^3}{3r\\epsilon_0}\n",
    "\\end{align*}\n",
    "$$\n",
    "\n",
    "---"
   ]
  },
  {
   "cell_type": "markdown",
   "metadata": {},
   "source": [
    "### 6b.4. Electric Field of a Sphere\n",
    "- Consider a sphere with radius $a$ and a uniform charge distrigution, $\\rho.\n",
    "- In the inner region, $0< r\\leq a$:\n",
    "$$\n",
    "\\begin{align*}\n",
    "    \\Phi &= \\frac{q}{\\epsilon_0} \\\\\n",
    "    E(4\\pi r^2) &= \\frac{\\rho 4/3 \\pi r^3}{\\epsilon_0} \\\\\n",
    "    E &= \\frac{\\rho}{3\\epsilon_0}r\n",
    "\\end{align*}\n",
    "$$\n",
    "\n",
    "- In the outer region, $r\\geq a$:\n",
    "$$\n",
    "\\begin{align*}\n",
    "    \\Phi &= \\frac{q}{\\epsilon_0} \\\\\n",
    "    E(4\\pi r^2) &= \\frac{\\rho 4/3 \\pi a^3}{\\epsilon_0} \\\\\n",
    "    E &= \\frac{\\rho a^3}{3r^2\\epsilon_0}\n",
    "\\end{align*}\n",
    "$$\n",
    "\n",
    "---"
   ]
  },
  {
   "cell_type": "markdown",
   "metadata": {},
   "source": [
    "### 6b.5. Electric Field Inside a Spherical Shell\n",
    "- For a spherical shell, a gaussian surface within the shell has no charge inside, therefore, the electric field is 0\n",
    "\n",
    "---"
   ]
  },
  {
   "cell_type": "markdown",
   "metadata": {},
   "source": [
    "### 6b.6. Force on a Charge Inside a Spherical Shell\n",
    "- If a charge is placed anywhere within a spherical shell, the force it experienced by the charge is\n",
    "$$\n",
    "\\vec{\\mathbf{F}}_q = q\\vec{\\mathbf{E}} = \\vec{0}\n",
    "$$\n",
    "\n",
    "---"
   ]
  },
  {
   "cell_type": "markdown",
   "metadata": {},
   "source": [
    "### 6b.7. Electric Field of Two Spherical Shells\n",
    "- Consider a spherical shell placed within another spherical shell with opposite charges. Again, the inner region has an electric field of 0. The electric field outside the outer sphere is also 0:\n",
    "$$\n",
    "\\Phi = \\frac{q_\\text{enclosed}}{\\epsilon_0} = \\frac{+Q+-Q}{\\epsilon 0} = 0\n",
    "$$\n",
    "- For the region between the two spheres, the outer shell makes no contribution to the electric field.\n",
    "\n",
    "---\n",
    "---"
   ]
  }
 ],
 "metadata": {
  "language_info": {
   "name": "python"
  }
 },
 "nbformat": 4,
 "nbformat_minor": 2
}
