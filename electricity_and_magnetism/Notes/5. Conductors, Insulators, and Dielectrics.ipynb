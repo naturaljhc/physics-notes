{
 "cells": [
  {
   "cell_type": "markdown",
   "metadata": {},
   "source": [
    "# Week 5: Conductors, Insulators, and Dielectrics\n",
    "📅 Date: 23 July, 2025\n",
    "\n",
    "- [11. Conductors and Insulators](#11-conductors-and-insulators)\n",
    "    - [11.1. Conductors and Insulators](#111-conductors-and-insulators)\n",
    "    - [11.2. Properties of Conductors](#112-properties-of-conductors)\n",
    "    - [11.3. Induced Charge on a Conductor from a Charge Outside](#113-induced-charge-on-a-conductor-from-a-charge-outside)\n",
    "    - [11.4. Induced Charge on a Conductor from a Charge Inside](#114-induced-charge-on-a-conductor-from-a-charge-inside)\n",
    "    - [11.5. Faraday Cage](#114-induced-charge-on-a-conductor-from-a-charge-inside)\n",
    "- [12. Capacitors](#12-capacitors)\n",
    "    - [12.1. Capacitance](#121-capacitance)\n",
    "    - [12.2. Capacitors](#122-capacitors)\n",
    "    - [12.3. Parallel Plate Capacitors](#123-parallel-plate-capacitors)\n",
    "    - [12.4. Cylindrical Shell Capacitor](#124-cylindrical-shell-capacitor)\n",
    "    - [12.5. Spherical Shell Capacitor](#125-spherical-shell-capacitor)\n",
    "    - [12.6. Energy Stored in the Electric Field](#126-energy-stored-in-the-electric-field)\n",
    "- [13. Dielectrics](#13-dielectrics)\n",
    "    - [13.1. Dielectrics](#131-dielectrics)\n",
    "    - [13.2. Capacitors and Dielectrics](#132-capacitors-and-dielectrics)\n",
    "    - [13.3. Dielectric Constant](#133-dielectric-constant)\n",
    "\n",
    "---\n",
    "---"
   ]
  },
  {
   "cell_type": "markdown",
   "metadata": {},
   "source": [
    "## 11. Conductors and Insulators\n",
    "\n",
    "---"
   ]
  },
  {
   "cell_type": "markdown",
   "metadata": {},
   "source": [
    "### 11.1. Conductors and Insulators\n",
    "\n",
    "- Conductors - materials where electrons to move through them\n",
    "- Insulators - materials where electrons do not move even if there is an electric field going through them\n",
    "\n",
    "---"
   ]
  },
  {
   "cell_type": "markdown",
   "metadata": {},
   "source": [
    "### 11.2. Properties of Conductors\n",
    "\n",
    "At electrostatic equilibrium:\n",
    "- Charge carriers are free to move - stops moving when the electric field inside the (pure) conductor is 0\n",
    "- Every point in the conductor is at the same potential\n",
    "- Charge density is 0 inside the material of a conductor\n",
    "\n",
    "---"
   ]
  },
  {
   "cell_type": "markdown",
   "metadata": {},
   "source": [
    "### 11.3. Induced Charge on a Conductor from a Charge Outside\n",
    "\n",
    "- When a charge is present outside a conductor, the charge produces some field and attracts opposing charges on the surface of the conductor, resulting in an induced charge density $\\sigma_\\text{induced}$\n",
    "- The field in the inside of the conductor is \n",
    "$$\n",
    "\\begin{align*}\n",
    "    \\vec{\\mathbf{E}}_\\text{inside} &= \\vec{\\mathbf{E}}_\\text{external} + \\vec{\\mathbf{E}}_\\sigma \\\\\n",
    "    0 &= \\vec{\\mathbf{E}}_\\text{external} + \\vec{\\mathbf{E}}_\\sigma\n",
    "\\end{align*}\n",
    "$$\n",
    "- The induced charge density is non-uniform and cancels the external electric field when inside the conductor (referred to as Shielding)\n",
    "\n",
    "---"
   ]
  },
  {
   "cell_type": "markdown",
   "metadata": {},
   "source": [
    "### 11.4. Induced Charge on a Conductor from a Charge Inside\n",
    "\n",
    "- A charge inside would result in two induced charge densities - one in the interior, and another on the exterior\n",
    "- The interior charge density cancels out the charge inside\n",
    "- The total induced inner charge is\n",
    "$$\n",
    "    Q_\\text{inner} = -q_\\text{inside}\n",
    "$$\n",
    "- If the original charge of the conductor was $Q_0$, then from conservation laws,\n",
    "$$\n",
    "    Q_\\text{outer} = Q_0 - Q_\\text{inner}\n",
    "$$\n",
    "---"
   ]
  },
  {
   "cell_type": "markdown",
   "metadata": {},
   "source": [
    "### 11.5. Faraday Cage\n",
    "\n",
    "- A Faraday cage is made of conductive material. When an external electric field or charge is applied, the free electrons in the conductor rearrange themselves to cancel the field inside. This redistribution of charge ensures that the electric field inside the conductor (and any hollow cavity it encloses) is zero. As a result, the inside of the cage is shielded from external electric fields.\n",
    "\n",
    "---\n",
    "---"
   ]
  },
  {
   "cell_type": "markdown",
   "metadata": {},
   "source": [
    "## 12. Capacitors\n",
    "\n",
    "---"
   ]
  },
  {
   "cell_type": "markdown",
   "metadata": {},
   "source": [
    "### 12.1. Capacitance\n",
    "\n",
    "- The charge of an equipotential capacitor is proportional to the potential:\n",
    "$$\n",
    "    Q = CV\n",
    "$$\n",
    "- $C$ is called the capacitance with the SI unit farad: \n",
    "$$\n",
    "\\begin{align*}\n",
    "    \\text{F} &= \\frac{\\text{C}}{\\text{V}} \\\\\n",
    "    &= \\frac{\\text{C}^2}{\\text{J}} \\\\\n",
    "    &= \\frac{\\text{C}^2\\cdot\\text{s}^2}{\\text{kg}\\cdot\\text{m}^2}\n",
    "\\end{align*}\n",
    "$$\n",
    "\n",
    "---"
   ]
  },
  {
   "cell_type": "markdown",
   "metadata": {},
   "source": [
    "### 12.2. Capacitors\n",
    "\n",
    "- A capacitor is an arrangement of two isolated conductors with equal and opposite charges and different potentials.\n",
    "- If one conductor has potential $V_1$ and the other has potential $V_2$, the capacitance in this case would be given by\n",
    "$$\n",
    "    Q = C|V_1 - V_2|\n",
    "$$\n",
    "\n",
    "---"
   ]
  },
  {
   "cell_type": "markdown",
   "metadata": {},
   "source": [
    "### 12.3. Parallel Plate Capacitors\n",
    "\n",
    "- Consider two plates separated by a distance $d$, each with area $A$. The top plate has charge $+Q$ and the bottom plate has charge $-Q$\n",
    "- Charges on the positive plate will be pulled towards the bottom. Charges on the negative plate will be pulled towards the top\n",
    "- Because the electric field within the conductors is 0, the only electric field is between the plates:\n",
    "$$\n",
    "    \\vec{\\mathbf{E}} = -\\frac{\\sigma}{\\epsilon_0}\\hat{\\mathbf{j}}\n",
    "$$\n",
    "- Since the electric field is uniform, the capacitance is\n",
    "$$\n",
    "\\begin{align*}\n",
    "    C &= \\frac{Q}{\\Delta V} \\\\\n",
    "    &= \\frac{Q}{Ed} \\\\\n",
    "    &= \\frac{Q}{\\sigma d/\\epsilon_0} \\\\\n",
    "    &= \\frac{A\\epsilon_0}{d}\n",
    "\\end{align*}\n",
    "$$\n",
    "\n",
    "---"
   ]
  },
  {
   "cell_type": "markdown",
   "metadata": {},
   "source": [
    "### 12.4. Cylindrical Shell Capacitor"
   ]
  },
  {
   "cell_type": "markdown",
   "metadata": {},
   "source": [
    "- Consider two hollow cylindrical shells where the inner cylinder has charge $+Q$ and radius $a$. The outer has charge $-Q$ and radius $b$\n",
    "- In the region $a<r<b$:\n",
    "$$\n",
    "    \\vec{\\mathbf{E}} = \\frac{\\lambda}{2\\pi\\epsilon_0 r}\\hat{\\mathbf{r}}\n",
    "$$\n",
    "- The capacitance is\n",
    "$$\n",
    "\\begin{align*}\n",
    "    C &= \\frac{Q}{|-\\int^b_a\\vec{\\mathbf{E}}\\cdot d\\vec{\\mathbf{s}}|} \\\\\n",
    "    &= \\frac{Q}{|-\\int^b_a\\frac{\\lambda}{2\\pi r\\epsilon_0} dr|} \\\\\n",
    "    &= \\frac{Q}{|-\\frac{\\lambda}{2\\pi\\epsilon_0}\\ln(b/a)|} \\\\\n",
    "    &= \\frac{2\\pi\\epsilon L}{\\ln(b/a)}\n",
    "\\end{align*}\n",
    "$$\n",
    "\n",
    "---"
   ]
  },
  {
   "cell_type": "markdown",
   "metadata": {},
   "source": [
    "### 12.5. Spherical Shell Capacitor\n",
    "\n",
    "- Consider two hollow spherical shells. The inner sphere has charge $+Q$ with radius $a$ and the outer sphere has charge $-Q$ with radius $b$.\n",
    "- In the region $a<r<b$:\n",
    "$$\n",
    "    \\vec{\\mathbf{E}} = \\frac{kQ}{r^2}\\hat{\\mathbf{r}}\n",
    "$$\n",
    "- The capacitance is\n",
    "$$\n",
    "\\begin{align*}\n",
    "    C &= \\frac{Q}{|-\\int^b_a \\vec{\\mathbf{E}} \\cdot d\\vec{\\mathbf{s}}|} \\\\\n",
    "    &= \\frac{4\\pi\\epsilon_0}{\\frac{1}{a}-\\frac{1}{b}}\n",
    "\\end{align*}\n",
    "$$\n",
    "\n",
    "---"
   ]
  },
  {
   "cell_type": "markdown",
   "metadata": {},
   "source": [
    "### 12.6. Energy Stored in the Electric Field\n",
    "\n",
    "- How many energy does it take to charge up two plates of a capacitor?\n",
    "$$\n",
    "    U = \\frac{1}{2}C|\\Delta V|^2\n",
    "$$\n",
    "- The potential difference is $|\\Delta V| = Ed$. Then the energy stored is\n",
    "$$\n",
    "\\begin{align*}\n",
    "    U &= \\frac{1}{2}\\frac{\\epsilon_0 A}{d}(Ed)^2 \\\\\n",
    "    U &= \\frac{1}{2}\\epsilon_0 E^2 (Ad) \\\\\n",
    "    U &= \\frac{1}{2}\\epsilon_0 E^2 \\cdot (\\text{Volume})\n",
    "\\end{align*}\n",
    "$$\n",
    "- The energy density is $U_E = 1/2\\epsilon_0 E^2$ with units $\\text{J}/\\text{m}^3$.\n",
    "- The total energy stored for any generic geometry is\n",
    "$$\n",
    "\\begin{align*}\n",
    "    U &= \\int \\frac{1}{2}\\epsilon_0 E^2 dV \\\\\n",
    "    U &= \\int U_E dV \\quad \\text{for volume where }E\\neq0\n",
    "\\end{align*}\n",
    "$$\n",
    "\n",
    "---\n",
    "---"
   ]
  },
  {
   "cell_type": "markdown",
   "metadata": {},
   "source": [
    "## 13. Dielectrics\n",
    "\n",
    "---"
   ]
  },
  {
   "cell_type": "markdown",
   "metadata": {},
   "source": [
    "### 13.1. Dielectrics\n",
    "\n",
    "- Dielectric - A material that becomes polarized in an electric field\n",
    "- Any insulator (non-conductor) is a dielectric\n",
    "- Some materials have molecules that are dipoles at the start; others have molecules that become dipoles after entering an electric field\n",
    "\n",
    "---"
   ]
  },
  {
   "cell_type": "markdown",
   "metadata": {},
   "source": [
    "### 13.2. Capacitors and Dielectrics\n",
    "\n",
    "- Without a dielectric, the voltage of a capacitor that is not connected to a battery increases as the distance between the plates increases\n",
    "- If a battery is connected, then the voltage remains constant\n",
    "- When a dielectric is inserted and no battery is present, the voltage decreases\n",
    "\n",
    "---"
   ]
  },
  {
   "cell_type": "markdown",
   "metadata": {},
   "source": [
    "### 13.3. Dielectric Constant\n",
    "\n",
    "- Each dipole has an electric field - the vector sum of the electric field (induced field) from the dipoles will point in the opposite direction of the capacitor's which will then be partially cancelled out\n",
    "- With the dielectric, the electric field is\n",
    "$$\n",
    "\\begin{align*}\n",
    "    \\vec{\\mathbf{E}} &= \\vec{\\mathbf{E}}_0 + \\vec{\\mathbf{E}}_\\text{induced} \\\\\n",
    "    \\vec{\\mathbf{E}} &= \\frac{\\vec{\\mathbf{E}}_0}{\\kappa}\n",
    "\\end{align*}\n",
    "$$\n",
    "- The dielectric constant, $\\kappa$, is a materials property of the dielectric\n",
    "    - Vacuum: $\\kappa = 1$\n",
    "    - Air: $\\kappa \\approx 1$\n",
    "    - Water: $\\kappa = 80$\n",
    "    - Paper: $\\kappa = 3.7$\n",
    "    - Pyrex Glass: $\\kappa = 5.6$\n",
    "\n",
    "---"
   ]
  }
 ],
 "metadata": {
  "language_info": {
   "name": "python"
  }
 },
 "nbformat": 4,
 "nbformat_minor": 2
}
